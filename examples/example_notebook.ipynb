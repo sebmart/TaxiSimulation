{
 "cells": [
  {
   "cell_type": "markdown",
   "metadata": {},
   "source": [
    "# TaxiSimulation examples"
   ]
  },
  {
   "cell_type": "markdown",
   "metadata": {},
   "source": [
    "- typical import"
   ]
  },
  {
   "cell_type": "code",
   "execution_count": 1,
   "metadata": {},
   "outputs": [],
   "source": [
    "using TaxiSimulationPotato, RoutingNetworksPotato, JLD"
   ]
  },
  {
   "cell_type": "markdown",
   "metadata": {},
   "source": []
  },
  {
   "cell_type": "code",
   "execution_count": 2,
   "metadata": {},
   "outputs": [],
   "source": []
  },
  {
   "cell_type": "markdown",
   "metadata": {},
   "source": [
    "## Creating TaxiProblems"
   ]
  },
  {
   "cell_type": "markdown",
   "metadata": {},
   "source": [
    "The `TaxiProblem` class represents problems we are trying to solve. Its most important features are:\n",
    "- a `Network` object from the `RoutingNetworks` package, together with a `RoutingPaths` object from the same package. These types represent the static routing graph and directions that will be used by taxis. Another `RoutingPaths` object describes the costs. The hypothesis is that taxis will use shortest paths in time (and not in cost)\n",
    "- a set of `Customers` (all customers to appear)\n",
    "- a set of `Taxis` (all taxis on the map)"
   ]
  },
  {
   "cell_type": "markdown",
   "metadata": {},
   "source": [
    "###  Synthetic problems"
   ]
  },
  {
   "cell_type": "markdown",
   "metadata": {},
   "source": [
    "- We create here a typical small-sized routing problem on a synthetic city"
   ]
  },
  {
   "cell_type": "code",
   "execution_count": 3,
   "metadata": {},
   "outputs": [],
   "source": [
    "import Random"
   ]
  },
  {
   "cell_type": "markdown",
   "metadata": {},
   "source": []
  },
  {
   "cell_type": "code",
   "execution_count": 4,
   "metadata": {},
   "outputs": [
    {
     "data": {
      "text/plain": [
       "Taxi Problem\n",
       "City with 192 locations and 640 roads\n",
       "Simulation with 60 customers and 20 taxis for 60.00 minutes\n"
      ]
     },
     "metadata": {},
     "output_type": "display_data"
    }
   ],
   "source": [
    "Random.seed!(1)\n",
    "# the network\n",
    "n = urbanNetwork(8, distance=800.)\n",
    "\n",
    "# the travel-times and paths. Here with road-types maximal speeds \n",
    "# (see RoutingNetworks for more details)\n",
    "\n",
    "routing = roadTypeRouting(n)\n",
    "\n",
    "#usually,the costs are proportional to the times (but not necessarily)\n",
    "# here the cost is $5 per hour of driving\n",
    "costs = RoutingPaths(n, routing.times*5. /3600.)\n",
    "\n",
    "# We create the taxi problem\n",
    "# - customerTime = nb of seconds to pickup or dropoff a customer\n",
    "# - waitingCost = nb of $ per second of a taxi waiting. (here $1/hour)\n",
    "pb = TaxiProblem(n,routing,costs,customerTime= 10., waitingCost = 1. /3600.)\n",
    "\n",
    "# The problem is still incomplete, we need to add customer and taxis\n",
    "# we first add random customers, see `taxiproblem/randomproblem.jl` for more info\n",
    "# 1h of customer pickups, 0.35 customers per node per hour, fare = $80/hour, \n",
    "# customers can wait up to 5min after pickup time, and call 30min before\n",
    "addRandomCustomers!(pb, 3600., 0.35, hourFare=80., custWait=5.0*60, custCall= 30.0*60)\n",
    "\n",
    "# 20 uniformly distributed identical random taxis, all available at beginning of simulation\n",
    "addRandomTaxis!(pb, 20)\n",
    "\n",
    "# save this problem locally for latter use\n",
    "save(\"data/smallurb.jld\", \"pb\", pb)\n",
    "pb"
   ]
  },
  {
   "cell_type": "code",
   "execution_count": 5,
   "metadata": {},
   "outputs": [
    {
     "name": "stdout",
     "output_type": "stream",
     "text": [
      "Taxi Problem\n",
      "City with 192 locations and 640 roads\n",
      "Simulation with 60 customers and 20 taxis for 60.00 minutes\n"
     ]
    }
   ],
   "source": [
    "print(pb)"
   ]
  },
  {
   "cell_type": "markdown",
   "metadata": {},
   "source": [
    "- We also create a harder medium-sized problem "
   ]
  },
  {
   "cell_type": "markdown",
   "metadata": {},
   "source": [
    "Random.seed!(1)\n",
    "n = urbanNetwork(16, distance=300.)\n",
    "r = roadTypeRouting(n)\n",
    "costs = RoutingPaths(n,r.times*5. /3600.)\n",
    "pb = TaxiProblem(n,r,costs,customerTime= 10., waitingCost = 1. /3600.)\n",
    "addRandomCustomers!(pb, 3600., 0.35, hourFare=80., custWait=5.0*60, custCall= 30.0*60)\n",
    "addRandomTaxis!(pb, 55)\n",
    "pb = updateTcall(pb,60*20.0)\n",
    "pb = updateTmax(pb, 60*5.0)\n",
    "save(\"data/mediumurb.jld\", \"pb\", pb)"
   ]
  },
  {
   "cell_type": "markdown",
   "metadata": {},
   "source": [
    "### Real-world problems "
   ]
  },
  {
   "cell_type": "markdown",
   "metadata": {},
   "source": [
    "We present here the creation of a problem using Manhattan's taxi data\n",
    "\n",
    "#### Constructing real-world networks\n",
    "The first step is to create the desired routing network. This can be done with the package RoutingNetworks, from a polygon. In our case we will use the predefined MANHATTAN polygon."
   ]
  },
  {
   "cell_type": "code",
   "execution_count": 6,
   "metadata": {},
   "outputs": [],
   "source": [
    "MANHATTAN_POLY = Tuple{Float32,Float32}[(-74.01369f0,40.69977f0), (-74.00597f0,40.702637f0), (-73.99944f0,40.70641f0), (-73.991714f0,40.708492f0), (-73.9761f0,40.71044f0), (-73.96923f0,40.72931f0), (-73.973526f0,40.736073f0), (-73.9615f0,40.75402f0), (-73.941765f0,40.774693f0), (-73.94348f0,40.78223f0), (-73.938156f0,40.78535f0), (-73.93593f0,40.79029f0), (-73.928894f0,40.79432f0), (-73.92872f0,40.803024f0), (-73.93318f0,40.80744f0), (-73.9349f0,40.833942f0), (-73.92134f0,40.85745f0), (-73.91893f0,40.858356f0), (-73.913956f0,40.863678f0), (-73.909706f0,40.872345f0), (-73.91829f0,40.875168f0), (-73.92648f0,40.879192f0), (-73.93344f0,40.87244f0), (-73.933525f0,40.86793f0), (-73.943436f0,40.853584f0), (-73.947945f0,40.85164f0), (-73.94713f0,40.84414f0), (-73.9552f0,40.828682f0), (-73.96091f0,40.8205f0), (-73.97734f0,40.79864f0), (-73.98957f0,40.78077f0), (-73.996994f0,40.770725f0), (-74.00352f0,40.761368f0), (-74.01064f0,40.75103f0), (-74.01532f0,40.719486f0), (-74.01764f0,40.719063f0), (-74.02047f0,40.704067f0)];"
   ]
  },
  {
   "cell_type": "markdown",
   "metadata": {},
   "source": [
    "- get data (can take some time)"
   ]
  },
  {
   "cell_type": "code",
   "execution_count": 7,
   "metadata": {},
   "outputs": [
    {
     "name": "stderr",
     "output_type": "stream",
     "text": [
      "┌ Warning: `Pkg.dir(pkgname, paths...)` is deprecated; instead, do `import RoutingNetworks; joinpath(dirname(pathof(RoutingNetworks)), \"..\", paths...)`.\n",
      "└ @ Pkg C:\\workdir\\usr\\share\\julia\\stdlib\\v1.8\\Pkg\\src\\Pkg.jl:687\n"
     ]
    },
    {
     "name": "stdout",
     "output_type": "stream",
     "text": [
      "Downloading OSM file (may take time)...\n"
     ]
    },
    {
     "ename": "SystemError",
     "evalue": "SystemError: opening file \"nothing/.cache/data.osm\": No such file or directory",
     "output_type": "error",
     "traceback": [
      "SystemError: opening file \"nothing/.cache/data.osm\": No such file or directory\n",
      "\n",
      "Stacktrace:\n",
      "  [1] systemerror(p::String, errno::Int32; extrainfo::Nothing)\n",
      "    @ Base .\\error.jl:176\n",
      "  [2] #systemerror#80\n",
      "    @ .\\error.jl:175 [inlined]\n",
      "  [3] systemerror\n",
      "    @ .\\error.jl:175 [inlined]\n",
      "  [4] open(fname::String; lock::Bool, read::Nothing, write::Bool, create::Nothing, truncate::Nothing, append::Nothing)\n",
      "    @ Base .\\iostream.jl:293\n",
      "  [5] open(f::Downloads.var\"#3#4\"{Nothing, Vector{Pair{String, String}}, Float64, Nothing, Bool, Nothing, Nothing, String}, args::String; kwargs::Base.Pairs{Symbol, Bool, Tuple{Symbol, Symbol}, NamedTuple{(:write, :lock), Tuple{Bool, Bool}}})\n",
      "    @ Base .\\io.jl:382\n",
      "  [6] #open_nolock#1\n",
      "    @ C:\\Users\\Admin\\.julia\\juliaup\\julia-1.8.5+0.x64.w64.mingw32\\share\\julia\\stdlib\\v1.8\\ArgTools\\src\\ArgTools.jl:35 [inlined]\n",
      "  [7] arg_write(f::Function, arg::String)\n",
      "    @ ArgTools C:\\Users\\Admin\\.julia\\juliaup\\julia-1.8.5+0.x64.w64.mingw32\\share\\julia\\stdlib\\v1.8\\ArgTools\\src\\ArgTools.jl:103\n",
      "  [8] #download#2\n",
      "    @ C:\\Users\\Admin\\.julia\\juliaup\\julia-1.8.5+0.x64.w64.mingw32\\share\\julia\\stdlib\\v1.8\\Downloads\\src\\Downloads.jl:230 [inlined]\n",
      "  [9] download(url::String, output::String)\n",
      "    @ Downloads C:\\Users\\Admin\\.julia\\juliaup\\julia-1.8.5+0.x64.w64.mingw32\\share\\julia\\stdlib\\v1.8\\Downloads\\src\\Downloads.jl:219\n",
      " [10] #invokelatest#2\n",
      "    @ .\\essentials.jl:729 [inlined]\n",
      " [11] invokelatest\n",
      "    @ .\\essentials.jl:726 [inlined]\n",
      " [12] do_download(url::String, path::String)\n",
      "    @ Base .\\download.jl:24\n",
      " [13] download\n",
      "    @ .\\download.jl:19 [inlined]\n",
      " [14] queryOsmBox(left::Float32, right::Float32, bottom::Float32, top::Float32; osmfile::String)\n",
      "    @ RoutingNetworksPotato C:\\Hey! It is! You, yes! you. Please focus when you need and forget all when you dont (exclamation mark)\\ToiUuHoa\\RoutingNetworksPotato\\src\\creation\\query.jl:15\n",
      " [15] queryOsmPolygon(poly::Vector{Tuple{Float32, Float32}}; osmfile::String)\n",
      "    @ RoutingNetworksPotato C:\\Hey! It is! You, yes! you. Please focus when you need and forget all when you dont (exclamation mark)\\ToiUuHoa\\RoutingNetworksPotato\\src\\creation\\query.jl:33\n",
      " [16] queryOsmPolygon(poly::Vector{Tuple{Float32, Float32}})\n",
      "    @ RoutingNetworksPotato C:\\Hey! It is! You, yes! you. Please focus when you need and forget all when you dont (exclamation mark)\\ToiUuHoa\\RoutingNetworksPotato\\src\\creation\\query.jl:31\n",
      " [17] top-level scope\n",
      "    @ c:\\Hey! It is! You, yes! you. Please focus when you need and forget all when you dont (exclamation mark)\\ToiUuHoa\\TaxiSimulationPotato\\examples\\jl_notebook_cell_df34fa98e69747e1a8f8a730347b8e2f_X25sZmlsZQ==.jl:1"
     ]
    }
   ],
   "source": [
    "manhattanNetwork = queryOsmPolygon(MANHATTAN_POLY)"
   ]
  },
  {
   "cell_type": "markdown",
   "metadata": {},
   "source": [
    "- format the network to our need"
   ]
  },
  {
   "cell_type": "code",
   "execution_count": 8,
   "metadata": {},
   "outputs": [
    {
     "ename": "UndefVarError",
     "evalue": "UndefVarError: manhattanNetwork not defined",
     "output_type": "error",
     "traceback": [
      "UndefVarError: manhattanNetwork not defined\n",
      "\n",
      "Stacktrace:\n",
      " [1] top-level scope\n",
      "   @ c:\\Hey! It is! You, yes! you. Please focus when you need and forget all when you dont (exclamation mark)\\ToiUuHoa\\TaxiSimulationPotato\\examples\\jl_notebook_cell_df34fa98e69747e1a8f8a730347b8e2f_X30sZmlsZQ==.jl:1"
     ]
    }
   ],
   "source": [
    "manhattanNetwork = roadTypeSubset(manhattanNetwork,1:6) # only keep main driving roads\n",
    "manhattanNetwork = stronglyConnected(manhattanNetwork,1) # only keep the main connected component (hoping it's the one of node 1)\n",
    "manhattanNetwork = intersections(manhattanNetwork) # simplify enormously the network, so that each node correspond to an intersection"
   ]
  },
  {
   "cell_type": "markdown",
   "metadata": {},
   "source": [
    "- save the network to a julia JLD file for latter use"
   ]
  },
  {
   "cell_type": "code",
   "execution_count": 9,
   "metadata": {},
   "outputs": [
    {
     "ename": "UndefVarError",
     "evalue": "UndefVarError: manhattanNetwork not defined",
     "output_type": "error",
     "traceback": [
      "UndefVarError: manhattanNetwork not defined\n",
      "\n",
      "Stacktrace:\n",
      " [1] top-level scope\n",
      "   @ c:\\Hey! It is! You, yes! you. Please focus when you need and forget all when you dont (exclamation mark)\\ToiUuHoa\\TaxiSimulationPotato\\examples\\jl_notebook_cell_df34fa98e69747e1a8f8a730347b8e2f_X32sZmlsZQ==.jl:1"
     ]
    }
   ],
   "source": [
    "saveTemplate(manhattanNetwork, \"Manhattan\")"
   ]
  },
  {
   "cell_type": "markdown",
   "metadata": {},
   "source": [
    "- to load the network, just do:"
   ]
  },
  {
   "cell_type": "code",
   "execution_count": 10,
   "metadata": {},
   "outputs": [
    {
     "ename": "ErrorException",
     "evalue": "template does not exist",
     "output_type": "error",
     "traceback": [
      "template does not exist\n",
      "\n",
      "Stacktrace:\n",
      " [1] error(s::String)\n",
      "   @ Base .\\error.jl:35\n",
      " [2] loadTemplate(name::String)\n",
      "   @ RoutingNetworksPotato C:\\Hey! It is! You, yes! you. Please focus when you need and forget all when you dont (exclamation mark)\\ToiUuHoa\\RoutingNetworksPotato\\src\\creation\\templates.jl:13\n",
      " [3] top-level scope\n",
      "   @ c:\\Hey! It is! You, yes! you. Please focus when you need and forget all when you dont (exclamation mark)\\ToiUuHoa\\TaxiSimulationPotato\\examples\\jl_notebook_cell_df34fa98e69747e1a8f8a730347b8e2f_X34sZmlsZQ==.jl:1"
     ]
    }
   ],
   "source": [
    "manhattanNetwork = loadTemplate(\"Manhattan\")\n",
    "# visualize(manhattanNetwork)"
   ]
  },
  {
   "cell_type": "code",
   "execution_count": 11,
   "metadata": {
    "collapsed": true
   },
   "outputs": [
    {
     "ename": "UndefVarError",
     "evalue": "UndefVarError: manhattanNetwork not defined",
     "output_type": "error",
     "traceback": [
      "UndefVarError: manhattanNetwork not defined\n",
      "\n",
      "Stacktrace:\n",
      " [1] top-level scope\n",
      "   @ c:\\Hey! It is! You, yes! you. Please focus when you need and forget all when you dont (exclamation mark)\\ToiUuHoa\\TaxiSimulationPotato\\examples\\jl_notebook_cell_df34fa98e69747e1a8f8a730347b8e2f_X35sZmlsZQ==.jl:1"
     ]
    }
   ],
   "source": [
    "visualize(manhattanNetwork)"
   ]
  },
  {
   "cell_type": "markdown",
   "metadata": {},
   "source": [
    "#### Getting real taxi-data\n",
    "For now, the package is able to parse and load CSVs of taxi trips from the NYC taxi and limousines commission. The CSVs can be found on their [website](http://www.nyc.gov/html/tlc/html/about/trip_record_data.shtml). The data is parsed and files can then be saved by date to simplify the reading."
   ]
  },
  {
   "cell_type": "code",
   "execution_count": 12,
   "metadata": {},
   "outputs": [
    {
     "ename": "Downloads.RequestError",
     "evalue": "HTTP/1.1 403 Forbidden while requesting https://s3.amazonaws.com/nyc-tlc/trip+data/yellow_tripdata_2016-04.csv",
     "output_type": "error",
     "traceback": [
      "HTTP/1.1 403 Forbidden while requesting https://s3.amazonaws.com/nyc-tlc/trip+data/yellow_tripdata_2016-04.csv\n",
      "\n",
      "Stacktrace:\n",
      "  [1] #3\n",
      "    @ C:\\Users\\Admin\\.julia\\juliaup\\julia-1.8.5+0.x64.w64.mingw32\\share\\julia\\stdlib\\v1.8\\Downloads\\src\\Downloads.jl:243 [inlined]\n",
      "  [2] open(f::Downloads.var\"#3#4\"{Nothing, Vector{Pair{String, String}}, Float64, Nothing, Bool, Nothing, Nothing, String}, args::String; kwargs::Base.Pairs{Symbol, Bool, Tuple{Symbol, Symbol}, NamedTuple{(:write, :lock), Tuple{Bool, Bool}}})\n",
      "    @ Base .\\io.jl:384\n",
      "  [3] #open_nolock#1\n",
      "    @ C:\\Users\\Admin\\.julia\\juliaup\\julia-1.8.5+0.x64.w64.mingw32\\share\\julia\\stdlib\\v1.8\\ArgTools\\src\\ArgTools.jl:35 [inlined]\n",
      "  [4] arg_write(f::Function, arg::String)\n",
      "    @ ArgTools C:\\Users\\Admin\\.julia\\juliaup\\julia-1.8.5+0.x64.w64.mingw32\\share\\julia\\stdlib\\v1.8\\ArgTools\\src\\ArgTools.jl:103\n",
      "  [5] #download#2\n",
      "    @ C:\\Users\\Admin\\.julia\\juliaup\\julia-1.8.5+0.x64.w64.mingw32\\share\\julia\\stdlib\\v1.8\\Downloads\\src\\Downloads.jl:230 [inlined]\n",
      "  [6] download(url::String, output::String)\n",
      "    @ Downloads C:\\Users\\Admin\\.julia\\juliaup\\julia-1.8.5+0.x64.w64.mingw32\\share\\julia\\stdlib\\v1.8\\Downloads\\src\\Downloads.jl:219\n",
      "  [7] #invokelatest#2\n",
      "    @ .\\essentials.jl:729 [inlined]\n",
      "  [8] invokelatest\n",
      "    @ .\\essentials.jl:726 [inlined]\n",
      "  [9] do_download(url::String, path::String)\n",
      "    @ Base .\\download.jl:24\n",
      " [10] download(url::String, path::String)\n",
      "    @ Base .\\download.jl:19\n",
      " [11] top-level scope\n",
      "    @ c:\\Hey! It is! You, yes! you. Please focus when you need and forget all when you dont (exclamation mark)\\ToiUuHoa\\TaxiSimulationPotato\\examples\\jl_notebook_cell_df34fa98e69747e1a8f8a730347b8e2f_X40sZmlsZQ==.jl:3"
     ]
    }
   ],
   "source": [
    "# Download data from website (will take some time, size = 1.8gb)\n",
    "const DATA_URL_04_2016 = \"https://s3.amazonaws.com/nyc-tlc/trip+data/yellow_tripdata_2016-04.csv\"\n",
    "download(DATA_URL_04_2016, \"data/taxidata042016.csv\")"
   ]
  },
  {
   "cell_type": "code",
   "execution_count": 13,
   "metadata": {},
   "outputs": [
    {
     "ename": "UndefVarError",
     "evalue": "UndefVarError: manhattanNetwork not defined",
     "output_type": "error",
     "traceback": [
      "UndefVarError: manhattanNetwork not defined\n",
      "\n",
      "Stacktrace:\n",
      " [1] top-level scope\n",
      "   @ c:\\Hey! It is! You, yes! you. Please focus when you need and forget all when you dont (exclamation mark)\\ToiUuHoa\\TaxiSimulationPotato\\examples\\jl_notebook_cell_df34fa98e69747e1a8f8a730347b8e2f_X41sZmlsZQ==.jl:2"
     ]
    }
   ],
   "source": [
    "# Parse data\n",
    "realcustomers = loadManhattanCustomers(manhattanNetwork, \"data/taxidata042016.csv\")\n",
    "\n",
    "# Save to files (one per day)\n",
    "saveByDate(realcustomers, \"data/manhattan\")\n",
    "\n",
    "# clean a little bit\n",
    "rm(\"data/taxidata042016.csv\")"
   ]
  },
  {
   "cell_type": "markdown",
   "metadata": {},
   "source": [
    "- Finally, let's create the taxi problem"
   ]
  },
  {
   "cell_type": "code",
   "execution_count": 14,
   "metadata": {
    "collapsed": true
   },
   "outputs": [
    {
     "ename": "ArgumentError",
     "evalue": "ArgumentError: No file exists at given path: data/timingsestimates042016-0911-weekdays.jld",
     "output_type": "error",
     "traceback": [
      "ArgumentError: No file exists at given path: data/timingsestimates042016-0911-weekdays.jld\n",
      "\n",
      "Stacktrace:\n",
      " [1] checkpath_load\n",
      "   @ C:\\Users\\Admin\\.julia\\packages\\FileIO\\hCQX2\\src\\loadsave.jl:167 [inlined]\n",
      " [2] load(file::String, args::String; options::Base.Pairs{Symbol, Union{}, Tuple{}, NamedTuple{(), Tuple{}}})\n",
      "   @ FileIO C:\\Users\\Admin\\.julia\\packages\\FileIO\\hCQX2\\src\\loadsave.jl:110\n",
      " [3] load(file::String, args::String)\n",
      "   @ FileIO C:\\Users\\Admin\\.julia\\packages\\FileIO\\hCQX2\\src\\loadsave.jl:109\n",
      " [4] top-level scope\n",
      "   @ c:\\Hey! It is! You, yes! you. Please focus when you need and forget all when you dont (exclamation mark)\\ToiUuHoa\\TaxiSimulationPotato\\examples\\jl_notebook_cell_df34fa98e69747e1a8f8a730347b8e2f_X43sZmlsZQ==.jl:2"
     ]
    }
   ],
   "source": [
    "# let's get some nice routing data created using another project\n",
    "times = load(\"data/timingsestimates042016-0911-weekdays.jld\", \"times\");\n",
    "# if the previous file doe not exist, create virtual times instead:\n",
    "# times = roadTypeRouting(manhattanNetwork).times\n",
    "\n",
    "routing = RoutingPaths(manhattanNetwork, times)\n",
    "costs = RoutingPaths(manhattanNetwork, routing.times*5./3600.)\n",
    "pb = TaxiProblem(manhattanNetwork, routing, costs, customerTime=30., waitingCost = 1./3600.)\n",
    "\n",
    "# Data from Wednesday 6th of April 2016 between 9 and 10:30\n",
    "custData = load(\"data/manhattan-2016-04-06.jld\", \"customers\")\n",
    "startTime = DateTime(2016, 4, 6, 9, 0, 0)\n",
    "endTime = startTime + Dates.Minute(90)\n",
    "\n",
    "# adding 100% of the real demand\n",
    "addDataCustomers!(pb, custData, startTime, endTime, 1.0)\n",
    "\n",
    "# adding 3000 taxis with a distribution matching the customers pickups (to avoid \"border effect\")\n",
    "addDistributedTaxis!(pb, 3000)\n",
    "\n",
    "# updating customer behavior: they book between 0 and 20min earlier and wait up to 5min for a taxi.\n",
    "pb = updateTcall(pb, 60*20.0,random=true)\n",
    "pb = updateTmax(pb, 60*5.0)\n",
    "save(\"data/manhattan.jld\", \"pb\", pb)\n",
    "\n",
    "pb"
   ]
  },
  {
   "cell_type": "markdown",
   "metadata": {},
   "source": [
    "# Offline Solving\n",
    "Offline solving is about finding the optimal solution when all customers are known beforehand."
   ]
  },
  {
   "cell_type": "markdown",
   "metadata": {},
   "source": [
    "## Optimization-based solving"
   ]
  },
  {
   "cell_type": "code",
   "execution_count": 15,
   "metadata": {},
   "outputs": [],
   "source": [
    "using TaxiSimulationPotato, JLD"
   ]
  },
  {
   "cell_type": "markdown",
   "metadata": {},
   "source": [
    "- We first solve the small problem to optimality, and visualize the result"
   ]
  },
  {
   "cell_type": "code",
   "execution_count": 16,
   "metadata": {},
   "outputs": [
    {
     "name": "stdout",
     "output_type": "stream",
     "text": [
      "Set parameter Username\n",
      "Solution metrics:\n",
      "Revenues: $0.00, Costs: $20.00, Profit: $-20.00 \n",
      "0.00% of the demand is met\n",
      "In total, 0.00h of driving\n",
      "100.00% of waiting time, NaN% of driving time is empty, \n",
      "Fairness: taxi profit = $-1.00 +- $0.00\n"
     ]
    },
    {
     "data": {
      "text/plain": [
       "Offline Solution, problem with 60 customers and 20 taxis\n",
       "Profit : -20.00 dollars\n",
       "60 customers rejected. \n",
       "==========================================\n",
       "\n"
      ]
     },
     "metadata": {},
     "output_type": "display_data"
    }
   ],
   "source": [
    "#pb = load(\"data/smallurb.jld\", \"pb\")\n",
    "offlineSol = mipSolve(pb, verbose=false)"
   ]
  },
  {
   "cell_type": "markdown",
   "metadata": {},
   "source": [
    "mipSolve returns an `OfflineSolution` object. This object contains all the information to represent an offline solution. It basically contains the customers assigned to each taxi. A full `TaxiSolution` also contains all the taxi movements at any time. Full solutions can be used to visualize the result (though the conversion between the two types is implicit)\n",
    "The commands of visualization are:\n",
    "- `ARROWS` to move around\n",
    "- `Z` and `X` to move in/out\n",
    "- `A` and `S` to increase/decrease the drawing size\n",
    "- `D` to show/hide the nodes of the network\n",
    "- `Q` and `ESC` to quit\n",
    "- `W` and `E` to slow down / accelerate time\n",
    "- `R` to reverse time\n",
    "- `SPACE` to pause time\n",
    "- `click` to follow/unfollow a taxi"
   ]
  },
  {
   "cell_type": "code",
   "execution_count": 17,
   "metadata": {},
   "outputs": [
    {
     "ename": "MethodError",
     "evalue": "MethodError: Cannot `convert` an object of type Ptr{CSFML.LibCSFML.sfCircleShape} to an object of type CSFML.LibCSFML.sfCircleShape\nClosest candidates are:\n  convert(::Type{T}, !Matched::T) where T at Base.jl:61",
     "output_type": "error",
     "traceback": [
      "MethodError: Cannot `convert` an object of type Ptr{CSFML.LibCSFML.sfCircleShape} to an object of type CSFML.LibCSFML.sfCircleShape\n",
      "Closest candidates are:\n",
      "  convert(::Type{T}, !Matched::T) where T at Base.jl:61\n",
      "\n",
      "Stacktrace:\n",
      "  [1] setindex!(A::Vector{CSFML.LibCSFML.sfCircleShape}, x::Ptr{CSFML.LibCSFML.sfCircleShape}, i1::Int64)\n",
      "    @ Base .\\array.jl:966\n",
      "  [2] _unsafe_copyto!(dest::Vector{CSFML.LibCSFML.sfCircleShape}, doffs::Int64, src::Vector{Ptr{CSFML.LibCSFML.sfCircleShape}}, soffs::Int64, n::Int64)\n",
      "    @ Base .\\array.jl:253\n",
      "  [3] unsafe_copyto!\n",
      "    @ .\\array.jl:307 [inlined]\n",
      "  [4] _copyto_impl!\n",
      "    @ .\\array.jl:331 [inlined]\n",
      "  [5] copyto!\n",
      "    @ .\\array.jl:317 [inlined]\n",
      "  [6] copyto!\n",
      "    @ .\\array.jl:343 [inlined]\n",
      "  [7] copyto_axcheck!\n",
      "    @ .\\abstractarray.jl:1127 [inlined]\n",
      "  [8] Array\n",
      "    @ .\\array.jl:626 [inlined]\n",
      "  [9] convert\n",
      "    @ .\\array.jl:617 [inlined]\n",
      " [10] setproperty!\n",
      "    @ .\\Base.jl:39 [inlined]\n",
      " [11] visualize(v::TaxiSimulationPotato.TaxiVisualizer)\n",
      "    @ RoutingNetworksPotato C:\\Hey! It is! You, yes! you. Please focus when you need and forget all when you dont (exclamation mark)\\ToiUuHoa\\RoutingNetworksPotato\\src\\visualization\\visualize.jl:119\n",
      " [12] visualize(s::TaxiSolution)\n",
      "    @ TaxiSimulationPotato c:\\Hey! It is! You, yes! you. Please focus when you need and forget all when you dont (exclamation mark)\\ToiUuHoa\\TaxiSimulationPotato\\src\\visualization\\taxivisualizer.jl:6\n",
      " [13] top-level scope\n",
      "    @ c:\\Hey! It is! You, yes! you. Please focus when you need and forget all when you dont (exclamation mark)\\ToiUuHoa\\TaxiSimulationPotato\\examples\\jl_notebook_cell_df34fa98e69747e1a8f8a730347b8e2f_X53sZmlsZQ==.jl:2"
     ]
    }
   ],
   "source": [
    "solution = TaxiSolution(offlineSol)\n",
    "visualize(solution)"
   ]
  },
  {
   "cell_type": "markdown",
   "metadata": {
    "collapsed": true
   },
   "source": [
    "The problem is internally converted to a network-flow problem in order to be solved. This formulation creates a graph where each node is a customer, and each directed edge represents a pair of customers that can be picked-up in a row.\n",
    "When all feasible edges are given, the solution is the optimal one. On the other hand, one can solve the problem with fewer edges for more tractability at the cost of a less optimal solution. \n",
    "\n",
    "Note that a `FlowProblem` must be fully computed (all feasible pair of customers). The graph indicates what edges we do consider.\n"
   ]
  },
  {
   "cell_type": "code",
   "execution_count": 18,
   "metadata": {},
   "outputs": [
    {
     "name": "stderr",
     "output_type": "stream",
     "text": [
      "┌ Warning: type LightGraphs.SimpleGraphs.SimpleDiGraph{Core.Int64} not present in workspace; reconstructing\n",
      "└ @ JLD C:\\Users\\Admin\\.julia\\packages\\JLD\\Vxkax\\src\\jld_types.jl:697\n",
      "Error encountered while load FileIO.File{FileIO.DataFormat{:JLD}, String}(\"data/mediumurb.jld\").\n",
      "\n",
      "Fatal error:\n"
     ]
    },
    {
     "ename": "CapturedException",
     "evalue": "MethodError: Cannot `convert` an object of type \n  JLD.var\"##LightGraphs.SimpleGraphs.SimpleDiGraph{Core.Int64}#312\" to an object of type \n  LightGraphs.SimpleGraphs.SimpleDiGraph\nClosest candidates are:\n  convert(::Type{T}, !Matched::T) where T at Base.jl:61\nStacktrace:\n  [1] macro expansion\n    @ C:\\Users\\Admin\\.julia\\packages\\JLD\\Vxkax\\src\\jld_types.jl:372 [inlined]\n  [2] jlconvert(#unused#::Type{Network}, file::JLD.JldFile, ptr::Ptr{UInt8})\n    @ JLD C:\\Users\\Admin\\.julia\\packages\\JLD\\Vxkax\\src\\jld_types.jl:550\n  [3] read_scalar_default(obj::JLD.JldDataset, dtype::HDF5.Datatype, T::Type)\n    @ JLD C:\\Users\\Admin\\.julia\\packages\\JLD\\Vxkax\\src\\JLD.jl:419\n  [4] read_scalar(obj::JLD.JldDataset, dtype::HDF5.Datatype, T::Type)\n    @ JLD C:\\Users\\Admin\\.julia\\packages\\JLD\\Vxkax\\src\\JLD.jl:415\n  [5] read(obj::JLD.JldDataset)\n    @ JLD C:\\Users\\Admin\\.julia\\packages\\JLD\\Vxkax\\src\\JLD.jl:386\n  [6] read_ref(f::JLD.JldFile, ref::HDF5.Reference)\n    @ JLD C:\\Users\\Admin\\.julia\\packages\\JLD\\Vxkax\\src\\JLD.jl:531\n  [7] macro expansion\n    @ C:\\Users\\Admin\\.julia\\packages\\JLD\\Vxkax\\src\\jld_types.jl:372 [inlined]\n  [8] jlconvert(#unused#::Type{TaxiProblem}, file::JLD.JldFile, ptr::Ptr{UInt8})\n    @ JLD C:\\Users\\Admin\\.julia\\packages\\JLD\\Vxkax\\src\\jld_types.jl:550\n  [9] read_scalar_default(obj::JLD.JldDataset, dtype::HDF5.Datatype, T::Type)\n    @ JLD C:\\Users\\Admin\\.julia\\packages\\JLD\\Vxkax\\src\\JLD.jl:419\n [10] read_scalar(obj::JLD.JldDataset, dtype::HDF5.Datatype, T::Type)\n    @ JLD C:\\Users\\Admin\\.julia\\packages\\JLD\\Vxkax\\src\\JLD.jl:415\n [11] read(obj::JLD.JldDataset)\n    @ JLD C:\\Users\\Admin\\.julia\\packages\\JLD\\Vxkax\\src\\JLD.jl:386\n [12] read(parent::JLD.JldFile, name::String)\n    @ JLD C:\\Users\\Admin\\.julia\\packages\\JLD\\Vxkax\\src\\JLD.jl:362\n [13] #48\n    @ C:\\Users\\Admin\\.julia\\packages\\JLD\\Vxkax\\src\\JLD.jl:1335 [inlined]\n [14] jldopen(::JLD.var\"#48#49\"{String}, ::String, ::Vararg{String}; kws::Base.Pairs{Symbol, Union{}, Tuple{}, NamedTuple{(), Tuple{}}})\n    @ JLD C:\\Users\\Admin\\.julia\\packages\\JLD\\Vxkax\\src\\JLD.jl:262\n [15] jldopen\n    @ C:\\Users\\Admin\\.julia\\packages\\JLD\\Vxkax\\src\\JLD.jl:259 [inlined]\n [16] fileio_load(f::FileIO.File{FileIO.DataFormat{:JLD}, String}, varname::String)\n    @ JLD C:\\Users\\Admin\\.julia\\packages\\JLD\\Vxkax\\src\\JLD.jl:1334\n [17] #invokelatest#2\n    @ .\\essentials.jl:729 [inlined]\n [18] invokelatest\n    @ .\\essentials.jl:726 [inlined]\n [19] action(call::Symbol, libraries::Vector{Union{Base.PkgId, Module}}, file::FileIO.Formatted, args::String; options::Base.Pairs{Symbol, Union{}, Tuple{}, NamedTuple{(), Tuple{}}})\n    @ FileIO C:\\Users\\Admin\\.julia\\packages\\FileIO\\hCQX2\\src\\loadsave.jl:219\n [20] action\n    @ C:\\Users\\Admin\\.julia\\packages\\FileIO\\hCQX2\\src\\loadsave.jl:196 [inlined]\n [21] action(call::Symbol, libraries::Vector{Union{Base.PkgId, Module}}, sym::Symbol, file::String, args::String; options::Base.Pairs{Symbol, Union{}, Tuple{}, NamedTuple{(), Tuple{}}})\n    @ FileIO C:\\Users\\Admin\\.julia\\packages\\FileIO\\hCQX2\\src\\loadsave.jl:185\n [22] action\n    @ C:\\Users\\Admin\\.julia\\packages\\FileIO\\hCQX2\\src\\loadsave.jl:185 [inlined]\n [23] load(file::String, args::String; options::Base.Pairs{Symbol, Union{}, Tuple{}, NamedTuple{(), Tuple{}}})\n    @ FileIO C:\\Users\\Admin\\.julia\\packages\\FileIO\\hCQX2\\src\\loadsave.jl:113\n [24] load(file::String, args::String)\n    @ FileIO C:\\Users\\Admin\\.julia\\packages\\FileIO\\hCQX2\\src\\loadsave.jl:109\n [25] top-level scope\n    @ c:\\Hey! It is! You, yes! you. Please focus when you need and forget all when you dont (exclamation mark)\\ToiUuHoa\\TaxiSimulationPotato\\examples\\jl_notebook_cell_df34fa98e69747e1a8f8a730347b8e2f_X55sZmlsZQ==.jl:1",
     "output_type": "error",
     "traceback": [
      "MethodError: Cannot `convert` an object of type \n",
      "  JLD.var\"##LightGraphs.SimpleGraphs.SimpleDiGraph{Core.Int64}#312\" to an object of type \n",
      "  LightGraphs.SimpleGraphs.SimpleDiGraph\n",
      "Closest candidates are:\n",
      "  convert(::Type{T}, !Matched::T) where T at Base.jl:61\n",
      "Stacktrace:\n",
      "  [1] macro expansion\n",
      "    @ C:\\Users\\Admin\\.julia\\packages\\JLD\\Vxkax\\src\\jld_types.jl:372 [inlined]\n",
      "  [2] jlconvert(#unused#::Type{Network}, file::JLD.JldFile, ptr::Ptr{UInt8})\n",
      "    @ JLD C:\\Users\\Admin\\.julia\\packages\\JLD\\Vxkax\\src\\jld_types.jl:550\n",
      "  [3] read_scalar_default(obj::JLD.JldDataset, dtype::HDF5.Datatype, T::Type)\n",
      "    @ JLD C:\\Users\\Admin\\.julia\\packages\\JLD\\Vxkax\\src\\JLD.jl:419\n",
      "  [4] read_scalar(obj::JLD.JldDataset, dtype::HDF5.Datatype, T::Type)\n",
      "    @ JLD C:\\Users\\Admin\\.julia\\packages\\JLD\\Vxkax\\src\\JLD.jl:415\n",
      "  [5] read(obj::JLD.JldDataset)\n",
      "    @ JLD C:\\Users\\Admin\\.julia\\packages\\JLD\\Vxkax\\src\\JLD.jl:386\n",
      "  [6] read_ref(f::JLD.JldFile, ref::HDF5.Reference)\n",
      "    @ JLD C:\\Users\\Admin\\.julia\\packages\\JLD\\Vxkax\\src\\JLD.jl:531\n",
      "  [7] macro expansion\n",
      "    @ C:\\Users\\Admin\\.julia\\packages\\JLD\\Vxkax\\src\\jld_types.jl:372 [inlined]\n",
      "  [8] jlconvert(#unused#::Type{TaxiProblem}, file::JLD.JldFile, ptr::Ptr{UInt8})\n",
      "    @ JLD C:\\Users\\Admin\\.julia\\packages\\JLD\\Vxkax\\src\\jld_types.jl:550\n",
      "  [9] read_scalar_default(obj::JLD.JldDataset, dtype::HDF5.Datatype, T::Type)\n",
      "    @ JLD C:\\Users\\Admin\\.julia\\packages\\JLD\\Vxkax\\src\\JLD.jl:419\n",
      " [10] read_scalar(obj::JLD.JldDataset, dtype::HDF5.Datatype, T::Type)\n",
      "    @ JLD C:\\Users\\Admin\\.julia\\packages\\JLD\\Vxkax\\src\\JLD.jl:415\n",
      " [11] read(obj::JLD.JldDataset)\n",
      "    @ JLD C:\\Users\\Admin\\.julia\\packages\\JLD\\Vxkax\\src\\JLD.jl:386\n",
      " [12] read(parent::JLD.JldFile, name::String)\n",
      "    @ JLD C:\\Users\\Admin\\.julia\\packages\\JLD\\Vxkax\\src\\JLD.jl:362\n",
      " [13] #48\n",
      "    @ C:\\Users\\Admin\\.julia\\packages\\JLD\\Vxkax\\src\\JLD.jl:1335 [inlined]\n",
      " [14] jldopen(::JLD.var\"#48#49\"{String}, ::String, ::Vararg{String}; kws::Base.Pairs{Symbol, Union{}, Tuple{}, NamedTuple{(), Tuple{}}})\n",
      "    @ JLD C:\\Users\\Admin\\.julia\\packages\\JLD\\Vxkax\\src\\JLD.jl:262\n",
      " [15] jldopen\n",
      "    @ C:\\Users\\Admin\\.julia\\packages\\JLD\\Vxkax\\src\\JLD.jl:259 [inlined]\n",
      " [16] fileio_load(f::FileIO.File{FileIO.DataFormat{:JLD}, String}, varname::String)\n",
      "    @ JLD C:\\Users\\Admin\\.julia\\packages\\JLD\\Vxkax\\src\\JLD.jl:1334\n",
      " [17] #invokelatest#2\n",
      "    @ .\\essentials.jl:729 [inlined]\n",
      " [18] invokelatest\n",
      "    @ .\\essentials.jl:726 [inlined]\n",
      " [19] action(call::Symbol, libraries::Vector{Union{Base.PkgId, Module}}, file::FileIO.Formatted, args::String; options::Base.Pairs{Symbol, Union{}, Tuple{}, NamedTuple{(), Tuple{}}})\n",
      "    @ FileIO C:\\Users\\Admin\\.julia\\packages\\FileIO\\hCQX2\\src\\loadsave.jl:219\n",
      " [20] action\n",
      "    @ C:\\Users\\Admin\\.julia\\packages\\FileIO\\hCQX2\\src\\loadsave.jl:196 [inlined]\n",
      " [21] action(call::Symbol, libraries::Vector{Union{Base.PkgId, Module}}, sym::Symbol, file::String, args::String; options::Base.Pairs{Symbol, Union{}, Tuple{}, NamedTuple{(), Tuple{}}})\n",
      "    @ FileIO C:\\Users\\Admin\\.julia\\packages\\FileIO\\hCQX2\\src\\loadsave.jl:185\n",
      " [22] action\n",
      "    @ C:\\Users\\Admin\\.julia\\packages\\FileIO\\hCQX2\\src\\loadsave.jl:185 [inlined]\n",
      " [23] load(file::String, args::String; options::Base.Pairs{Symbol, Union{}, Tuple{}, NamedTuple{(), Tuple{}}})\n",
      "    @ FileIO C:\\Users\\Admin\\.julia\\packages\\FileIO\\hCQX2\\src\\loadsave.jl:113\n",
      " [24] load(file::String, args::String)\n",
      "    @ FileIO C:\\Users\\Admin\\.julia\\packages\\FileIO\\hCQX2\\src\\loadsave.jl:109\n",
      " [25] top-level scope\n",
      "    @ c:\\Hey! It is! You, yes! you. Please focus when you need and forget all when you dont (exclamation mark)\\ToiUuHoa\\TaxiSimulationPotato\\examples\\jl_notebook_cell_df34fa98e69747e1a8f8a730347b8e2f_X55sZmlsZQ==.jl:1\n",
      "\n",
      "Stacktrace:\n",
      " [1] handle_error(e::MethodError, q::Base.PkgId, bt::Vector{Union{Ptr{Nothing}, Base.InterpreterIP}})\n",
      "   @ FileIO C:\\Users\\Admin\\.julia\\packages\\FileIO\\hCQX2\\src\\error_handling.jl:71\n",
      " [2] handle_exceptions(exceptions::Vector{Tuple{Any, Union{Base.PkgId, Module}, Vector}}, action::String)\n",
      "   @ FileIO C:\\Users\\Admin\\.julia\\packages\\FileIO\\hCQX2\\src\\error_handling.jl:66\n",
      " [3] action(call::Symbol, libraries::Vector{Union{Base.PkgId, Module}}, file::FileIO.Formatted, args::String; options::Base.Pairs{Symbol, Union{}, Tuple{}, NamedTuple{(), Tuple{}}})\n",
      "   @ FileIO C:\\Users\\Admin\\.julia\\packages\\FileIO\\hCQX2\\src\\loadsave.jl:228\n",
      " [4] action\n",
      "   @ C:\\Users\\Admin\\.julia\\packages\\FileIO\\hCQX2\\src\\loadsave.jl:196 [inlined]\n",
      " [5] action(call::Symbol, libraries::Vector{Union{Base.PkgId, Module}}, sym::Symbol, file::String, args::String; options::Base.Pairs{Symbol, Union{}, Tuple{}, NamedTuple{(), Tuple{}}})\n",
      "   @ FileIO C:\\Users\\Admin\\.julia\\packages\\FileIO\\hCQX2\\src\\loadsave.jl:185\n",
      " [6] action\n",
      "   @ C:\\Users\\Admin\\.julia\\packages\\FileIO\\hCQX2\\src\\loadsave.jl:185 [inlined]\n",
      " [7] load(file::String, args::String; options::Base.Pairs{Symbol, Union{}, Tuple{}, NamedTuple{(), Tuple{}}})\n",
      "   @ FileIO C:\\Users\\Admin\\.julia\\packages\\FileIO\\hCQX2\\src\\loadsave.jl:113\n",
      " [8] load(file::String, args::String)\n",
      "   @ FileIO C:\\Users\\Admin\\.julia\\packages\\FileIO\\hCQX2\\src\\loadsave.jl:109\n",
      " [9] top-level scope\n",
      "   @ c:\\Hey! It is! You, yes! you. Please focus when you need and forget all when you dont (exclamation mark)\\ToiUuHoa\\TaxiSimulationPotato\\examples\\jl_notebook_cell_df34fa98e69747e1a8f8a730347b8e2f_X55sZmlsZQ==.jl:1"
     ]
    }
   ],
   "source": [
    "pb = load(\"data/mediumurb.jld\", \"pb\")\n",
    "flowPb = FlowProblem(pb)\n",
    "\n",
    "# compute heuristic score for each edge. It's a rough indicator of how good an edge is.\n",
    "scores = scoreHeuristic(pb, flowPb)\n",
    "# only select the 3 best edges for each nodes, and 10 for the taxi origin nodes\n",
    "smallerPb = kLinks(flowPb, 3, scores, firstK=10)\n",
    "\n",
    "# scores are useful to avoid recomputing everything for each new K.\n",
    "# but there is a one-liner :\n",
    "smallerPb = kLinks(pb, 2, firstK=10)\n",
    "\n",
    "\n",
    "flowSol = mipFlow(smallerPb, verbose=false)\n",
    "sol = OfflineSolution(pb, smallerPb, flowSol)\n",
    "# visualize(sol)"
   ]
  },
  {
   "cell_type": "code",
   "execution_count": 19,
   "metadata": {},
   "outputs": [
    {
     "ename": "UndefVarError",
     "evalue": "UndefVarError: sol not defined",
     "output_type": "error",
     "traceback": [
      "UndefVarError: sol not defined\n"
     ]
    }
   ],
   "source": [
    "sol"
   ]
  },
  {
   "cell_type": "markdown",
   "metadata": {},
   "source": [
    "When pick-up times are fixed, the problem becomes an LP and we can use a (fast) LP solver."
   ]
  },
  {
   "cell_type": "code",
   "execution_count": 20,
   "metadata": {},
   "outputs": [
    {
     "ename": "UndefVarError",
     "evalue": "UndefVarError: flowPb not defined",
     "output_type": "error",
     "traceback": [
      "UndefVarError: flowPb not defined\n",
      "\n",
      "Stacktrace:\n",
      " [1] top-level scope\n",
      "   @ c:\\Hey! It is! You, yes! you. Please focus when you need and forget all when you dont (exclamation mark)\\ToiUuHoa\\TaxiSimulationPotato\\examples\\jl_notebook_cell_df34fa98e69747e1a8f8a730347b8e2f_X61sZmlsZQ==.jl:2"
     ]
    }
   ],
   "source": [
    "# random pickup times (can also provide other time window)\n",
    "times = randPickupTimes(flowPb)\n",
    "\n",
    "# all pick-up as late as possible\n",
    "times = fixedPickupTimes(flowPb, 1.)\n",
    "\n",
    "sol = OfflineSolution(pb, flowPb, lpFlow(flowPb, times, verbose=false))"
   ]
  },
  {
   "cell_type": "markdown",
   "metadata": {
    "collapsed": true
   },
   "source": [
    "### Modifying a flow problem\n",
    "It is possible to add links to a `FlowProblem` object:"
   ]
  },
  {
   "cell_type": "code",
   "execution_count": 21,
   "metadata": {},
   "outputs": [
    {
     "name": "stdout",
     "output_type": "stream",
     "text": [
      "Set parameter Username\n"
     ]
    },
    {
     "ename": "MethodError",
     "evalue": "MethodError: no method matching set_attributes(::JuMP.Model, ::Base.Pairs{Symbol, Union{}, Tuple{}, NamedTuple{(), Tuple{}}})\nClosest candidates are:\n  set_attributes(::Union{MathOptInterface.OptimizerWithAttributes, JuMP.ConstraintRef, JuMP.GenericModel, JuMP.GenericVariableRef}, !Matched::Pair...) at C:\\Users\\Admin\\.julia\\packages\\JuMP\\V9nZm\\src\\optimizer_interface.jl:1428",
     "output_type": "error",
     "traceback": [
      "MethodError: no method matching set_attributes(::JuMP.Model, ::Base.Pairs{Symbol, Union{}, Tuple{}, NamedTuple{(), Tuple{}}})\n",
      "Closest candidates are:\n",
      "  set_attributes(::Union{MathOptInterface.OptimizerWithAttributes, JuMP.ConstraintRef, JuMP.GenericModel, JuMP.GenericVariableRef}, !Matched::Pair...) at C:\\Users\\Admin\\.julia\\packages\\JuMP\\V9nZm\\src\\optimizer_interface.jl:1428\n",
      "\n",
      "Stacktrace:\n",
      " [1] lpFlow(l::FlowProblem, t::Vector{Float64}; verbose::Bool, solverArgs::Base.Pairs{Symbol, Union{}, Tuple{}, NamedTuple{(), Tuple{}}})\n",
      "   @ TaxiSimulationPotato c:\\Hey! It is! You, yes! you. Please focus when you need and forget all when you dont (exclamation mark)\\ToiUuHoa\\TaxiSimulationPotato\\src\\offline\\lpsolve.jl:21\n",
      " [2] top-level scope\n",
      "   @ c:\\Hey! It is! You, yes! you. Please focus when you need and forget all when you dont (exclamation mark)\\ToiUuHoa\\TaxiSimulationPotato\\examples\\jl_notebook_cell_df34fa98e69747e1a8f8a730347b8e2f_X63sZmlsZQ==.jl:8"
     ]
    }
   ],
   "source": [
    "# The easier way is to start with a fully precomputed `FlowProblem`:\n",
    "flowPb = FlowProblem(pb)\n",
    "\n",
    "# Then constructing a copy (share memory!) with the edges removed\n",
    "newFlowPb = emptyFlow(flowPb)\n",
    "\n",
    "# And add the edges of a computed solution:\n",
    "flowSol = lpFlow(flowPb, fixedPickupTimes(flowPb), verbose=false)\n",
    "addLinks!(newFlowPb, flowSol)"
   ]
  },
  {
   "cell_type": "markdown",
   "metadata": {},
   "source": [
    "## Heuristics\n",
    "- Greedy insertions"
   ]
  },
  {
   "cell_type": "code",
   "execution_count": 22,
   "metadata": {},
   "outputs": [
    {
     "name": "stderr",
     "output_type": "stream",
     "text": [
      "┌ Warning: type LightGraphs.SimpleGraphs.SimpleDiGraph{Core.Int64} not present in workspace; reconstructing\n",
      "└ @ JLD C:\\Users\\Admin\\.julia\\packages\\JLD\\Vxkax\\src\\jld_types.jl:697\n",
      "Error encountered while load FileIO.File{FileIO.DataFormat{:JLD}, String}(\"data/mediumurb.jld\").\n",
      "\n",
      "Fatal error:\n"
     ]
    },
    {
     "ename": "CapturedException",
     "evalue": "MethodError: Cannot `convert` an object of type \n  JLD.var\"##LightGraphs.SimpleGraphs.SimpleDiGraph{Core.Int64}#316\" to an object of type \n  LightGraphs.SimpleGraphs.SimpleDiGraph\nClosest candidates are:\n  convert(::Type{T}, !Matched::T) where T at Base.jl:61\nStacktrace:\n  [1] macro expansion\n    @ C:\\Users\\Admin\\.julia\\packages\\JLD\\Vxkax\\src\\jld_types.jl:372 [inlined]\n  [2] jlconvert(#unused#::Type{Network}, file::JLD.JldFile, ptr::Ptr{UInt8})\n    @ JLD C:\\Users\\Admin\\.julia\\packages\\JLD\\Vxkax\\src\\jld_types.jl:550\n  [3] read_scalar_default(obj::JLD.JldDataset, dtype::HDF5.Datatype, T::Type)\n    @ JLD C:\\Users\\Admin\\.julia\\packages\\JLD\\Vxkax\\src\\JLD.jl:419\n  [4] read_scalar(obj::JLD.JldDataset, dtype::HDF5.Datatype, T::Type)\n    @ JLD C:\\Users\\Admin\\.julia\\packages\\JLD\\Vxkax\\src\\JLD.jl:415\n  [5] read(obj::JLD.JldDataset)\n    @ JLD C:\\Users\\Admin\\.julia\\packages\\JLD\\Vxkax\\src\\JLD.jl:386\n  [6] read_ref(f::JLD.JldFile, ref::HDF5.Reference)\n    @ JLD C:\\Users\\Admin\\.julia\\packages\\JLD\\Vxkax\\src\\JLD.jl:531\n  [7] macro expansion\n    @ C:\\Users\\Admin\\.julia\\packages\\JLD\\Vxkax\\src\\jld_types.jl:372 [inlined]\n  [8] jlconvert(#unused#::Type{TaxiProblem}, file::JLD.JldFile, ptr::Ptr{UInt8})\n    @ JLD C:\\Users\\Admin\\.julia\\packages\\JLD\\Vxkax\\src\\jld_types.jl:550\n  [9] read_scalar_default(obj::JLD.JldDataset, dtype::HDF5.Datatype, T::Type)\n    @ JLD C:\\Users\\Admin\\.julia\\packages\\JLD\\Vxkax\\src\\JLD.jl:419\n [10] read_scalar(obj::JLD.JldDataset, dtype::HDF5.Datatype, T::Type)\n    @ JLD C:\\Users\\Admin\\.julia\\packages\\JLD\\Vxkax\\src\\JLD.jl:415\n [11] read(obj::JLD.JldDataset)\n    @ JLD C:\\Users\\Admin\\.julia\\packages\\JLD\\Vxkax\\src\\JLD.jl:386\n [12] read(parent::JLD.JldFile, name::String)\n    @ JLD C:\\Users\\Admin\\.julia\\packages\\JLD\\Vxkax\\src\\JLD.jl:362\n [13] #48\n    @ C:\\Users\\Admin\\.julia\\packages\\JLD\\Vxkax\\src\\JLD.jl:1335 [inlined]\n [14] jldopen(::JLD.var\"#48#49\"{String}, ::String, ::Vararg{String}; kws::Base.Pairs{Symbol, Union{}, Tuple{}, NamedTuple{(), Tuple{}}})\n    @ JLD C:\\Users\\Admin\\.julia\\packages\\JLD\\Vxkax\\src\\JLD.jl:262\n [15] jldopen\n    @ C:\\Users\\Admin\\.julia\\packages\\JLD\\Vxkax\\src\\JLD.jl:259 [inlined]\n [16] fileio_load(f::FileIO.File{FileIO.DataFormat{:JLD}, String}, varname::String)\n    @ JLD C:\\Users\\Admin\\.julia\\packages\\JLD\\Vxkax\\src\\JLD.jl:1334\n [17] #invokelatest#2\n    @ .\\essentials.jl:729 [inlined]\n [18] invokelatest\n    @ .\\essentials.jl:726 [inlined]\n [19] action(call::Symbol, libraries::Vector{Union{Base.PkgId, Module}}, file::FileIO.Formatted, args::String; options::Base.Pairs{Symbol, Union{}, Tuple{}, NamedTuple{(), Tuple{}}})\n    @ FileIO C:\\Users\\Admin\\.julia\\packages\\FileIO\\hCQX2\\src\\loadsave.jl:219\n [20] action\n    @ C:\\Users\\Admin\\.julia\\packages\\FileIO\\hCQX2\\src\\loadsave.jl:196 [inlined]\n [21] action(call::Symbol, libraries::Vector{Union{Base.PkgId, Module}}, sym::Symbol, file::String, args::String; options::Base.Pairs{Symbol, Union{}, Tuple{}, NamedTuple{(), Tuple{}}})\n    @ FileIO C:\\Users\\Admin\\.julia\\packages\\FileIO\\hCQX2\\src\\loadsave.jl:185\n [22] action\n    @ C:\\Users\\Admin\\.julia\\packages\\FileIO\\hCQX2\\src\\loadsave.jl:185 [inlined]\n [23] load(file::String, args::String; options::Base.Pairs{Symbol, Union{}, Tuple{}, NamedTuple{(), Tuple{}}})\n    @ FileIO C:\\Users\\Admin\\.julia\\packages\\FileIO\\hCQX2\\src\\loadsave.jl:113\n [24] load(file::String, args::String)\n    @ FileIO C:\\Users\\Admin\\.julia\\packages\\FileIO\\hCQX2\\src\\loadsave.jl:109\n [25] top-level scope\n    @ c:\\Hey! It is! You, yes! you. Please focus when you need and forget all when you dont (exclamation mark)\\ToiUuHoa\\TaxiSimulationPotato\\examples\\jl_notebook_cell_df34fa98e69747e1a8f8a730347b8e2f_X65sZmlsZQ==.jl:1",
     "output_type": "error",
     "traceback": [
      "MethodError: Cannot `convert` an object of type \n",
      "  JLD.var\"##LightGraphs.SimpleGraphs.SimpleDiGraph{Core.Int64}#316\" to an object of type \n",
      "  LightGraphs.SimpleGraphs.SimpleDiGraph\n",
      "Closest candidates are:\n",
      "  convert(::Type{T}, !Matched::T) where T at Base.jl:61\n",
      "Stacktrace:\n",
      "  [1] macro expansion\n",
      "    @ C:\\Users\\Admin\\.julia\\packages\\JLD\\Vxkax\\src\\jld_types.jl:372 [inlined]\n",
      "  [2] jlconvert(#unused#::Type{Network}, file::JLD.JldFile, ptr::Ptr{UInt8})\n",
      "    @ JLD C:\\Users\\Admin\\.julia\\packages\\JLD\\Vxkax\\src\\jld_types.jl:550\n",
      "  [3] read_scalar_default(obj::JLD.JldDataset, dtype::HDF5.Datatype, T::Type)\n",
      "    @ JLD C:\\Users\\Admin\\.julia\\packages\\JLD\\Vxkax\\src\\JLD.jl:419\n",
      "  [4] read_scalar(obj::JLD.JldDataset, dtype::HDF5.Datatype, T::Type)\n",
      "    @ JLD C:\\Users\\Admin\\.julia\\packages\\JLD\\Vxkax\\src\\JLD.jl:415\n",
      "  [5] read(obj::JLD.JldDataset)\n",
      "    @ JLD C:\\Users\\Admin\\.julia\\packages\\JLD\\Vxkax\\src\\JLD.jl:386\n",
      "  [6] read_ref(f::JLD.JldFile, ref::HDF5.Reference)\n",
      "    @ JLD C:\\Users\\Admin\\.julia\\packages\\JLD\\Vxkax\\src\\JLD.jl:531\n",
      "  [7] macro expansion\n",
      "    @ C:\\Users\\Admin\\.julia\\packages\\JLD\\Vxkax\\src\\jld_types.jl:372 [inlined]\n",
      "  [8] jlconvert(#unused#::Type{TaxiProblem}, file::JLD.JldFile, ptr::Ptr{UInt8})\n",
      "    @ JLD C:\\Users\\Admin\\.julia\\packages\\JLD\\Vxkax\\src\\jld_types.jl:550\n",
      "  [9] read_scalar_default(obj::JLD.JldDataset, dtype::HDF5.Datatype, T::Type)\n",
      "    @ JLD C:\\Users\\Admin\\.julia\\packages\\JLD\\Vxkax\\src\\JLD.jl:419\n",
      " [10] read_scalar(obj::JLD.JldDataset, dtype::HDF5.Datatype, T::Type)\n",
      "    @ JLD C:\\Users\\Admin\\.julia\\packages\\JLD\\Vxkax\\src\\JLD.jl:415\n",
      " [11] read(obj::JLD.JldDataset)\n",
      "    @ JLD C:\\Users\\Admin\\.julia\\packages\\JLD\\Vxkax\\src\\JLD.jl:386\n",
      " [12] read(parent::JLD.JldFile, name::String)\n",
      "    @ JLD C:\\Users\\Admin\\.julia\\packages\\JLD\\Vxkax\\src\\JLD.jl:362\n",
      " [13] #48\n",
      "    @ C:\\Users\\Admin\\.julia\\packages\\JLD\\Vxkax\\src\\JLD.jl:1335 [inlined]\n",
      " [14] jldopen(::JLD.var\"#48#49\"{String}, ::String, ::Vararg{String}; kws::Base.Pairs{Symbol, Union{}, Tuple{}, NamedTuple{(), Tuple{}}})\n",
      "    @ JLD C:\\Users\\Admin\\.julia\\packages\\JLD\\Vxkax\\src\\JLD.jl:262\n",
      " [15] jldopen\n",
      "    @ C:\\Users\\Admin\\.julia\\packages\\JLD\\Vxkax\\src\\JLD.jl:259 [inlined]\n",
      " [16] fileio_load(f::FileIO.File{FileIO.DataFormat{:JLD}, String}, varname::String)\n",
      "    @ JLD C:\\Users\\Admin\\.julia\\packages\\JLD\\Vxkax\\src\\JLD.jl:1334\n",
      " [17] #invokelatest#2\n",
      "    @ .\\essentials.jl:729 [inlined]\n",
      " [18] invokelatest\n",
      "    @ .\\essentials.jl:726 [inlined]\n",
      " [19] action(call::Symbol, libraries::Vector{Union{Base.PkgId, Module}}, file::FileIO.Formatted, args::String; options::Base.Pairs{Symbol, Union{}, Tuple{}, NamedTuple{(), Tuple{}}})\n",
      "    @ FileIO C:\\Users\\Admin\\.julia\\packages\\FileIO\\hCQX2\\src\\loadsave.jl:219\n",
      " [20] action\n",
      "    @ C:\\Users\\Admin\\.julia\\packages\\FileIO\\hCQX2\\src\\loadsave.jl:196 [inlined]\n",
      " [21] action(call::Symbol, libraries::Vector{Union{Base.PkgId, Module}}, sym::Symbol, file::String, args::String; options::Base.Pairs{Symbol, Union{}, Tuple{}, NamedTuple{(), Tuple{}}})\n",
      "    @ FileIO C:\\Users\\Admin\\.julia\\packages\\FileIO\\hCQX2\\src\\loadsave.jl:185\n",
      " [22] action\n",
      "    @ C:\\Users\\Admin\\.julia\\packages\\FileIO\\hCQX2\\src\\loadsave.jl:185 [inlined]\n",
      " [23] load(file::String, args::String; options::Base.Pairs{Symbol, Union{}, Tuple{}, NamedTuple{(), Tuple{}}})\n",
      "    @ FileIO C:\\Users\\Admin\\.julia\\packages\\FileIO\\hCQX2\\src\\loadsave.jl:113\n",
      " [24] load(file::String, args::String)\n",
      "    @ FileIO C:\\Users\\Admin\\.julia\\packages\\FileIO\\hCQX2\\src\\loadsave.jl:109\n",
      " [25] top-level scope\n",
      "    @ c:\\Hey! It is! You, yes! you. Please focus when you need and forget all when you dont (exclamation mark)\\ToiUuHoa\\TaxiSimulationPotato\\examples\\jl_notebook_cell_df34fa98e69747e1a8f8a730347b8e2f_X65sZmlsZQ==.jl:1\n",
      "\n",
      "Stacktrace:\n",
      " [1] handle_error(e::MethodError, q::Base.PkgId, bt::Vector{Union{Ptr{Nothing}, Base.InterpreterIP}})\n",
      "   @ FileIO C:\\Users\\Admin\\.julia\\packages\\FileIO\\hCQX2\\src\\error_handling.jl:71\n",
      " [2] handle_exceptions(exceptions::Vector{Tuple{Any, Union{Base.PkgId, Module}, Vector}}, action::String)\n",
      "   @ FileIO C:\\Users\\Admin\\.julia\\packages\\FileIO\\hCQX2\\src\\error_handling.jl:66\n",
      " [3] action(call::Symbol, libraries::Vector{Union{Base.PkgId, Module}}, file::FileIO.Formatted, args::String; options::Base.Pairs{Symbol, Union{}, Tuple{}, NamedTuple{(), Tuple{}}})\n",
      "   @ FileIO C:\\Users\\Admin\\.julia\\packages\\FileIO\\hCQX2\\src\\loadsave.jl:228\n",
      " [4] action\n",
      "   @ C:\\Users\\Admin\\.julia\\packages\\FileIO\\hCQX2\\src\\loadsave.jl:196 [inlined]\n",
      " [5] action(call::Symbol, libraries::Vector{Union{Base.PkgId, Module}}, sym::Symbol, file::String, args::String; options::Base.Pairs{Symbol, Union{}, Tuple{}, NamedTuple{(), Tuple{}}})\n",
      "   @ FileIO C:\\Users\\Admin\\.julia\\packages\\FileIO\\hCQX2\\src\\loadsave.jl:185\n",
      " [6] action\n",
      "   @ C:\\Users\\Admin\\.julia\\packages\\FileIO\\hCQX2\\src\\loadsave.jl:185 [inlined]\n",
      " [7] load(file::String, args::String; options::Base.Pairs{Symbol, Union{}, Tuple{}, NamedTuple{(), Tuple{}}})\n",
      "   @ FileIO C:\\Users\\Admin\\.julia\\packages\\FileIO\\hCQX2\\src\\loadsave.jl:113\n",
      " [8] load(file::String, args::String)\n",
      "   @ FileIO C:\\Users\\Admin\\.julia\\packages\\FileIO\\hCQX2\\src\\loadsave.jl:109\n",
      " [9] top-level scope\n",
      "   @ c:\\Hey! It is! You, yes! you. Please focus when you need and forget all when you dont (exclamation mark)\\ToiUuHoa\\TaxiSimulationPotato\\examples\\jl_notebook_cell_df34fa98e69747e1a8f8a730347b8e2f_X65sZmlsZQ==.jl:1"
     ]
    }
   ],
   "source": [
    "pb = load(\"data/mediumurb.jld\", \"pb\")\n",
    "orderedInsertions(pb) # order = tmin"
   ]
  },
  {
   "cell_type": "markdown",
   "metadata": {},
   "source": [
    "- local improvement of greedy insertions order"
   ]
  },
  {
   "cell_type": "code",
   "execution_count": 23,
   "metadata": {},
   "outputs": [
    {
     "ename": "ErrorException",
     "evalue": "setfield!: immutable struct of type CustomerTimeWindow cannot be changed",
     "output_type": "error",
     "traceback": [
      "setfield!: immutable struct of type CustomerTimeWindow cannot be changed\n",
      "\n",
      "Stacktrace:\n",
      " [1] setproperty!(x::CustomerTimeWindow, f::Symbol, v::Float64)\n",
      "   @ Base .\\Base.jl:39\n",
      " [2] forceInsert!(pb::TaxiProblem, cID::Int64, k::Int64, tw::Vector{CustomerTimeWindow}, i::Int64)\n",
      "   @ TaxiSimulationPotato c:\\Hey! It is! You, yes! you. Please focus when you need and forget all when you dont (exclamation mark)\\ToiUuHoa\\TaxiSimulationPotato\\src\\offline\\solutionupdates.jl:188\n",
      " [3] insertCustomer!(sol::OfflineSolution, cID::Int64, taxis::UnitRange{Int64}; earliest::Bool)\n",
      "   @ TaxiSimulationPotato c:\\Hey! It is! You, yes! you. Please focus when you need and forget all when you dont (exclamation mark)\\ToiUuHoa\\TaxiSimulationPotato\\src\\offline\\solutionupdates.jl:36\n",
      " [4] orderedInsertions(pb::TaxiProblem, order::Vector{Int64}; earliest::Bool, verbose::Bool)\n",
      "   @ TaxiSimulationPotato c:\\Hey! It is! You, yes! you. Please focus when you need and forget all when you dont (exclamation mark)\\ToiUuHoa\\TaxiSimulationPotato\\src\\offline\\insertionsheuristics.jl:18\n",
      " [5] insertionsDescent(pb::TaxiProblem, start::Vector{Int64}; benchmark::Bool, verbose::Bool, maxTime::Float64, iterations::Int64, earliest::Bool)\n",
      "   @ TaxiSimulationPotato c:\\Hey! It is! You, yes! you. Please focus when you need and forget all when you dont (exclamation mark)\\ToiUuHoa\\TaxiSimulationPotato\\src\\offline\\insertionsheuristics.jl:56\n",
      " [6] insertionsDescent(pb::TaxiProblem, start::Vector{Int64}) (repeats 2 times)\n",
      "   @ TaxiSimulationPotato c:\\Hey! It is! You, yes! you. Please focus when you need and forget all when you dont (exclamation mark)\\ToiUuHoa\\TaxiSimulationPotato\\src\\offline\\insertionsheuristics.jl:47\n",
      " [7] top-level scope\n",
      "   @ c:\\Hey! It is! You, yes! you. Please focus when you need and forget all when you dont (exclamation mark)\\ToiUuHoa\\TaxiSimulationPotato\\examples\\jl_notebook_cell_df34fa98e69747e1a8f8a730347b8e2f_Y100sZmlsZQ==.jl:1"
     ]
    }
   ],
   "source": [
    "insertionsDescent(pb)"
   ]
  },
  {
   "cell_type": "markdown",
   "metadata": {},
   "source": [
    "- best of random insertions orders"
   ]
  },
  {
   "cell_type": "code",
   "execution_count": 24,
   "metadata": {},
   "outputs": [
    {
     "ename": "UndefVarError",
     "evalue": "UndefVarError: shuffle not defined",
     "output_type": "error",
     "traceback": [
      "UndefVarError: shuffle not defined\n",
      "\n",
      "Stacktrace:\n",
      " [1] randomInsertions(pb::TaxiProblem; benchmark::Bool, verbose::Bool, maxTime::Float64, iterations::Int64)\n",
      "   @ TaxiSimulationPotato c:\\Hey! It is! You, yes! you. Please focus when you need and forget all when you dont (exclamation mark)\\ToiUuHoa\\TaxiSimulationPotato\\src\\offline\\insertionsheuristics.jl:103\n",
      " [2] randomInsertions(pb::TaxiProblem)\n",
      "   @ TaxiSimulationPotato c:\\Hey! It is! You, yes! you. Please focus when you need and forget all when you dont (exclamation mark)\\ToiUuHoa\\TaxiSimulationPotato\\src\\offline\\insertionsheuristics.jl:98\n",
      " [3] top-level scope\n",
      "   @ c:\\Hey! It is! You, yes! you. Please focus when you need and forget all when you dont (exclamation mark)\\ToiUuHoa\\TaxiSimulationPotato\\examples\\jl_notebook_cell_df34fa98e69747e1a8f8a730347b8e2f_Y102sZmlsZQ==.jl:1"
     ]
    }
   ],
   "source": [
    "sol = randomInsertions(pb)"
   ]
  },
  {
   "cell_type": "markdown",
   "metadata": {},
   "source": [
    "- local 2-OPT improvement of solution, with reinsertions at each step"
   ]
  },
  {
   "cell_type": "code",
   "execution_count": 25,
   "metadata": {},
   "outputs": [
    {
     "ename": "UndefVarError",
     "evalue": "UndefVarError: sol not defined",
     "output_type": "error",
     "traceback": [
      "UndefVarError: sol not defined\n",
      "\n",
      "Stacktrace:\n",
      " [1] top-level scope\n",
      "   @ c:\\Hey! It is! You, yes! you. Please focus when you need and forget all when you dont (exclamation mark)\\ToiUuHoa\\TaxiSimulationPotato\\examples\\jl_notebook_cell_df34fa98e69747e1a8f8a730347b8e2f_Y104sZmlsZQ==.jl:1"
     ]
    }
   ],
   "source": [
    "localDescent(pb, sol, maxSearch=100, maxTime=20.)"
   ]
  },
  {
   "cell_type": "markdown",
   "metadata": {},
   "source": [
    "- For very large problems (eg. Manhattan), smart-search tunes the maxSearch parameter in an online way."
   ]
  },
  {
   "cell_type": "code",
   "execution_count": 26,
   "metadata": {},
   "outputs": [
    {
     "ename": "UndefVarError",
     "evalue": "UndefVarError: sol not defined",
     "output_type": "error",
     "traceback": [
      "UndefVarError: sol not defined\n",
      "\n",
      "Stacktrace:\n",
      " [1] top-level scope\n",
      "   @ c:\\Hey! It is! You, yes! you. Please focus when you need and forget all when you dont (exclamation mark)\\ToiUuHoa\\TaxiSimulationPotato\\examples\\jl_notebook_cell_df34fa98e69747e1a8f8a730347b8e2f_Y106sZmlsZQ==.jl:1"
     ]
    }
   ],
   "source": [
    "smartSearch(pb,sol)"
   ]
  },
  {
   "cell_type": "markdown",
   "metadata": {},
   "source": [
    "- Back-bone local search, uses LP to construct backbone, solve with MIP. Quite powerful"
   ]
  },
  {
   "cell_type": "code",
   "execution_count": 27,
   "metadata": {},
   "outputs": [
    {
     "name": "stdout",
     "output_type": "stream",
     "text": [
      "Initial profit: $0.00\n",
      "Iteration 1: Set parameter Username\n"
     ]
    },
    {
     "ename": "MethodError",
     "evalue": "MethodError: no method matching set_attributes(::JuMP.Model, ::Base.Pairs{Symbol, Union{}, Tuple{}, NamedTuple{(), Tuple{}}})\nClosest candidates are:\n  set_attributes(::Union{MathOptInterface.OptimizerWithAttributes, JuMP.ConstraintRef, JuMP.GenericModel, JuMP.GenericVariableRef}, !Matched::Pair...) at C:\\Users\\Admin\\.julia\\packages\\JuMP\\V9nZm\\src\\optimizer_interface.jl:1428",
     "output_type": "error",
     "traceback": [
      "MethodError: no method matching set_attributes(::JuMP.Model, ::Base.Pairs{Symbol, Union{}, Tuple{}, NamedTuple{(), Tuple{}}})\n",
      "Closest candidates are:\n",
      "  set_attributes(::Union{MathOptInterface.OptimizerWithAttributes, JuMP.ConstraintRef, JuMP.GenericModel, JuMP.GenericVariableRef}, !Matched::Pair...) at C:\\Users\\Admin\\.julia\\packages\\JuMP\\V9nZm\\src\\optimizer_interface.jl:1428\n",
      "\n",
      "Stacktrace:\n",
      " [1] lpFlow(l::FlowProblem, t::Vector{Float64}; verbose::Bool, solverArgs::Base.Pairs{Symbol, Union{}, Tuple{}, NamedTuple{(), Tuple{}}})\n",
      "   @ TaxiSimulationPotato c:\\Hey! It is! You, yes! you. Please focus when you need and forget all when you dont (exclamation mark)\\ToiUuHoa\\TaxiSimulationPotato\\src\\offline\\lpsolve.jl:21\n",
      " [2] backboneSearch(fpb::FlowProblem, start::FlowSolution; maxEdges::Int64, localityRatio::Float64, maxTime::Int64, maxExplorationTime::Int64, maxSolvingTime::Int64, verbose::Int64, args::Base.Pairs{Symbol, Union{}, Tuple{}, NamedTuple{(), Tuple{}}})\n",
      "   @ TaxiSimulationPotato c:\\Hey! It is! You, yes! you. Please focus when you need and forget all when you dont (exclamation mark)\\ToiUuHoa\\TaxiSimulationPotato\\src\\offline\\localheuristics.jl:184\n",
      " [3] #backboneSearch#108\n",
      "   @ c:\\Hey! It is! You, yes! you. Please focus when you need and forget all when you dont (exclamation mark)\\ToiUuHoa\\TaxiSimulationPotato\\src\\offline\\localheuristics.jl:210 [inlined]\n",
      " [4] top-level scope\n",
      "   @ c:\\Hey! It is! You, yes! you. Please focus when you need and forget all when you dont (exclamation mark)\\ToiUuHoa\\TaxiSimulationPotato\\examples\\jl_notebook_cell_df34fa98e69747e1a8f8a730347b8e2f_Y111sZmlsZQ==.jl:1"
     ]
    }
   ],
   "source": [
    "backboneSearch(pb, OfflineSolution(pb), maxEdges = 1500, maxTime=300, localityRatio = 0.75)"
   ]
  },
  {
   "cell_type": "markdown",
   "metadata": {},
   "source": [
    "## Online simulations"
   ]
  },
  {
   "cell_type": "code",
   "execution_count": 28,
   "metadata": {},
   "outputs": [
    {
     "name": "stderr",
     "output_type": "stream",
     "text": [
      "┌ Warning: type LightGraphs.SimpleGraphs.SimpleDiGraph{Core.Int64} not present in workspace; reconstructing\n",
      "└ @ JLD C:\\Users\\Admin\\.julia\\packages\\JLD\\Vxkax\\src\\jld_types.jl:697\n",
      "Error encountered while load FileIO.File{FileIO.DataFormat{:JLD}, String}(\"data/mediumurb.jld\").\n",
      "\n",
      "Fatal error:\n"
     ]
    },
    {
     "ename": "CapturedException",
     "evalue": "MethodError: Cannot `convert` an object of type \n  JLD.var\"##LightGraphs.SimpleGraphs.SimpleDiGraph{Core.Int64}#320\" to an object of type \n  LightGraphs.SimpleGraphs.SimpleDiGraph\nClosest candidates are:\n  convert(::Type{T}, !Matched::T) where T at Base.jl:61\nStacktrace:\n  [1] macro expansion\n    @ C:\\Users\\Admin\\.julia\\packages\\JLD\\Vxkax\\src\\jld_types.jl:372 [inlined]\n  [2] jlconvert(#unused#::Type{Network}, file::JLD.JldFile, ptr::Ptr{UInt8})\n    @ JLD C:\\Users\\Admin\\.julia\\packages\\JLD\\Vxkax\\src\\jld_types.jl:550\n  [3] read_scalar_default(obj::JLD.JldDataset, dtype::HDF5.Datatype, T::Type)\n    @ JLD C:\\Users\\Admin\\.julia\\packages\\JLD\\Vxkax\\src\\JLD.jl:419\n  [4] read_scalar(obj::JLD.JldDataset, dtype::HDF5.Datatype, T::Type)\n    @ JLD C:\\Users\\Admin\\.julia\\packages\\JLD\\Vxkax\\src\\JLD.jl:415\n  [5] read(obj::JLD.JldDataset)\n    @ JLD C:\\Users\\Admin\\.julia\\packages\\JLD\\Vxkax\\src\\JLD.jl:386\n  [6] read_ref(f::JLD.JldFile, ref::HDF5.Reference)\n    @ JLD C:\\Users\\Admin\\.julia\\packages\\JLD\\Vxkax\\src\\JLD.jl:531\n  [7] macro expansion\n    @ C:\\Users\\Admin\\.julia\\packages\\JLD\\Vxkax\\src\\jld_types.jl:372 [inlined]\n  [8] jlconvert(#unused#::Type{TaxiProblem}, file::JLD.JldFile, ptr::Ptr{UInt8})\n    @ JLD C:\\Users\\Admin\\.julia\\packages\\JLD\\Vxkax\\src\\jld_types.jl:550\n  [9] read_scalar_default(obj::JLD.JldDataset, dtype::HDF5.Datatype, T::Type)\n    @ JLD C:\\Users\\Admin\\.julia\\packages\\JLD\\Vxkax\\src\\JLD.jl:419\n [10] read_scalar(obj::JLD.JldDataset, dtype::HDF5.Datatype, T::Type)\n    @ JLD C:\\Users\\Admin\\.julia\\packages\\JLD\\Vxkax\\src\\JLD.jl:415\n [11] read(obj::JLD.JldDataset)\n    @ JLD C:\\Users\\Admin\\.julia\\packages\\JLD\\Vxkax\\src\\JLD.jl:386\n [12] read(parent::JLD.JldFile, name::String)\n    @ JLD C:\\Users\\Admin\\.julia\\packages\\JLD\\Vxkax\\src\\JLD.jl:362\n [13] #48\n    @ C:\\Users\\Admin\\.julia\\packages\\JLD\\Vxkax\\src\\JLD.jl:1335 [inlined]\n [14] jldopen(::JLD.var\"#48#49\"{String}, ::String, ::Vararg{String}; kws::Base.Pairs{Symbol, Union{}, Tuple{}, NamedTuple{(), Tuple{}}})\n    @ JLD C:\\Users\\Admin\\.julia\\packages\\JLD\\Vxkax\\src\\JLD.jl:262\n [15] jldopen\n    @ C:\\Users\\Admin\\.julia\\packages\\JLD\\Vxkax\\src\\JLD.jl:259 [inlined]\n [16] fileio_load(f::FileIO.File{FileIO.DataFormat{:JLD}, String}, varname::String)\n    @ JLD C:\\Users\\Admin\\.julia\\packages\\JLD\\Vxkax\\src\\JLD.jl:1334\n [17] #invokelatest#2\n    @ .\\essentials.jl:729 [inlined]\n [18] invokelatest\n    @ .\\essentials.jl:726 [inlined]\n [19] action(call::Symbol, libraries::Vector{Union{Base.PkgId, Module}}, file::FileIO.Formatted, args::String; options::Base.Pairs{Symbol, Union{}, Tuple{}, NamedTuple{(), Tuple{}}})\n    @ FileIO C:\\Users\\Admin\\.julia\\packages\\FileIO\\hCQX2\\src\\loadsave.jl:219\n [20] action\n    @ C:\\Users\\Admin\\.julia\\packages\\FileIO\\hCQX2\\src\\loadsave.jl:196 [inlined]\n [21] action(call::Symbol, libraries::Vector{Union{Base.PkgId, Module}}, sym::Symbol, file::String, args::String; options::Base.Pairs{Symbol, Union{}, Tuple{}, NamedTuple{(), Tuple{}}})\n    @ FileIO C:\\Users\\Admin\\.julia\\packages\\FileIO\\hCQX2\\src\\loadsave.jl:185\n [22] action\n    @ C:\\Users\\Admin\\.julia\\packages\\FileIO\\hCQX2\\src\\loadsave.jl:185 [inlined]\n [23] load(file::String, args::String; options::Base.Pairs{Symbol, Union{}, Tuple{}, NamedTuple{(), Tuple{}}})\n    @ FileIO C:\\Users\\Admin\\.julia\\packages\\FileIO\\hCQX2\\src\\loadsave.jl:113\n [24] load(file::String, args::String)\n    @ FileIO C:\\Users\\Admin\\.julia\\packages\\FileIO\\hCQX2\\src\\loadsave.jl:109\n [25] top-level scope\n    @ c:\\Hey! It is! You, yes! you. Please focus when you need and forget all when you dont (exclamation mark)\\ToiUuHoa\\TaxiSimulationPotato\\examples\\jl_notebook_cell_df34fa98e69747e1a8f8a730347b8e2f_Y113sZmlsZQ==.jl:1",
     "output_type": "error",
     "traceback": [
      "MethodError: Cannot `convert` an object of type \n",
      "  JLD.var\"##LightGraphs.SimpleGraphs.SimpleDiGraph{Core.Int64}#320\" to an object of type \n",
      "  LightGraphs.SimpleGraphs.SimpleDiGraph\n",
      "Closest candidates are:\n",
      "  convert(::Type{T}, !Matched::T) where T at Base.jl:61\n",
      "Stacktrace:\n",
      "  [1] macro expansion\n",
      "    @ C:\\Users\\Admin\\.julia\\packages\\JLD\\Vxkax\\src\\jld_types.jl:372 [inlined]\n",
      "  [2] jlconvert(#unused#::Type{Network}, file::JLD.JldFile, ptr::Ptr{UInt8})\n",
      "    @ JLD C:\\Users\\Admin\\.julia\\packages\\JLD\\Vxkax\\src\\jld_types.jl:550\n",
      "  [3] read_scalar_default(obj::JLD.JldDataset, dtype::HDF5.Datatype, T::Type)\n",
      "    @ JLD C:\\Users\\Admin\\.julia\\packages\\JLD\\Vxkax\\src\\JLD.jl:419\n",
      "  [4] read_scalar(obj::JLD.JldDataset, dtype::HDF5.Datatype, T::Type)\n",
      "    @ JLD C:\\Users\\Admin\\.julia\\packages\\JLD\\Vxkax\\src\\JLD.jl:415\n",
      "  [5] read(obj::JLD.JldDataset)\n",
      "    @ JLD C:\\Users\\Admin\\.julia\\packages\\JLD\\Vxkax\\src\\JLD.jl:386\n",
      "  [6] read_ref(f::JLD.JldFile, ref::HDF5.Reference)\n",
      "    @ JLD C:\\Users\\Admin\\.julia\\packages\\JLD\\Vxkax\\src\\JLD.jl:531\n",
      "  [7] macro expansion\n",
      "    @ C:\\Users\\Admin\\.julia\\packages\\JLD\\Vxkax\\src\\jld_types.jl:372 [inlined]\n",
      "  [8] jlconvert(#unused#::Type{TaxiProblem}, file::JLD.JldFile, ptr::Ptr{UInt8})\n",
      "    @ JLD C:\\Users\\Admin\\.julia\\packages\\JLD\\Vxkax\\src\\jld_types.jl:550\n",
      "  [9] read_scalar_default(obj::JLD.JldDataset, dtype::HDF5.Datatype, T::Type)\n",
      "    @ JLD C:\\Users\\Admin\\.julia\\packages\\JLD\\Vxkax\\src\\JLD.jl:419\n",
      " [10] read_scalar(obj::JLD.JldDataset, dtype::HDF5.Datatype, T::Type)\n",
      "    @ JLD C:\\Users\\Admin\\.julia\\packages\\JLD\\Vxkax\\src\\JLD.jl:415\n",
      " [11] read(obj::JLD.JldDataset)\n",
      "    @ JLD C:\\Users\\Admin\\.julia\\packages\\JLD\\Vxkax\\src\\JLD.jl:386\n",
      " [12] read(parent::JLD.JldFile, name::String)\n",
      "    @ JLD C:\\Users\\Admin\\.julia\\packages\\JLD\\Vxkax\\src\\JLD.jl:362\n",
      " [13] #48\n",
      "    @ C:\\Users\\Admin\\.julia\\packages\\JLD\\Vxkax\\src\\JLD.jl:1335 [inlined]\n",
      " [14] jldopen(::JLD.var\"#48#49\"{String}, ::String, ::Vararg{String}; kws::Base.Pairs{Symbol, Union{}, Tuple{}, NamedTuple{(), Tuple{}}})\n",
      "    @ JLD C:\\Users\\Admin\\.julia\\packages\\JLD\\Vxkax\\src\\JLD.jl:262\n",
      " [15] jldopen\n",
      "    @ C:\\Users\\Admin\\.julia\\packages\\JLD\\Vxkax\\src\\JLD.jl:259 [inlined]\n",
      " [16] fileio_load(f::FileIO.File{FileIO.DataFormat{:JLD}, String}, varname::String)\n",
      "    @ JLD C:\\Users\\Admin\\.julia\\packages\\JLD\\Vxkax\\src\\JLD.jl:1334\n",
      " [17] #invokelatest#2\n",
      "    @ .\\essentials.jl:729 [inlined]\n",
      " [18] invokelatest\n",
      "    @ .\\essentials.jl:726 [inlined]\n",
      " [19] action(call::Symbol, libraries::Vector{Union{Base.PkgId, Module}}, file::FileIO.Formatted, args::String; options::Base.Pairs{Symbol, Union{}, Tuple{}, NamedTuple{(), Tuple{}}})\n",
      "    @ FileIO C:\\Users\\Admin\\.julia\\packages\\FileIO\\hCQX2\\src\\loadsave.jl:219\n",
      " [20] action\n",
      "    @ C:\\Users\\Admin\\.julia\\packages\\FileIO\\hCQX2\\src\\loadsave.jl:196 [inlined]\n",
      " [21] action(call::Symbol, libraries::Vector{Union{Base.PkgId, Module}}, sym::Symbol, file::String, args::String; options::Base.Pairs{Symbol, Union{}, Tuple{}, NamedTuple{(), Tuple{}}})\n",
      "    @ FileIO C:\\Users\\Admin\\.julia\\packages\\FileIO\\hCQX2\\src\\loadsave.jl:185\n",
      " [22] action\n",
      "    @ C:\\Users\\Admin\\.julia\\packages\\FileIO\\hCQX2\\src\\loadsave.jl:185 [inlined]\n",
      " [23] load(file::String, args::String; options::Base.Pairs{Symbol, Union{}, Tuple{}, NamedTuple{(), Tuple{}}})\n",
      "    @ FileIO C:\\Users\\Admin\\.julia\\packages\\FileIO\\hCQX2\\src\\loadsave.jl:113\n",
      " [24] load(file::String, args::String)\n",
      "    @ FileIO C:\\Users\\Admin\\.julia\\packages\\FileIO\\hCQX2\\src\\loadsave.jl:109\n",
      " [25] top-level scope\n",
      "    @ c:\\Hey! It is! You, yes! you. Please focus when you need and forget all when you dont (exclamation mark)\\ToiUuHoa\\TaxiSimulationPotato\\examples\\jl_notebook_cell_df34fa98e69747e1a8f8a730347b8e2f_Y113sZmlsZQ==.jl:1\n",
      "\n",
      "Stacktrace:\n",
      " [1] handle_error(e::MethodError, q::Base.PkgId, bt::Vector{Union{Ptr{Nothing}, Base.InterpreterIP}})\n",
      "   @ FileIO C:\\Users\\Admin\\.julia\\packages\\FileIO\\hCQX2\\src\\error_handling.jl:71\n",
      " [2] handle_exceptions(exceptions::Vector{Tuple{Any, Union{Base.PkgId, Module}, Vector}}, action::String)\n",
      "   @ FileIO C:\\Users\\Admin\\.julia\\packages\\FileIO\\hCQX2\\src\\error_handling.jl:66\n",
      " [3] action(call::Symbol, libraries::Vector{Union{Base.PkgId, Module}}, file::FileIO.Formatted, args::String; options::Base.Pairs{Symbol, Union{}, Tuple{}, NamedTuple{(), Tuple{}}})\n",
      "   @ FileIO C:\\Users\\Admin\\.julia\\packages\\FileIO\\hCQX2\\src\\loadsave.jl:228\n",
      " [4] action\n",
      "   @ C:\\Users\\Admin\\.julia\\packages\\FileIO\\hCQX2\\src\\loadsave.jl:196 [inlined]\n",
      " [5] action(call::Symbol, libraries::Vector{Union{Base.PkgId, Module}}, sym::Symbol, file::String, args::String; options::Base.Pairs{Symbol, Union{}, Tuple{}, NamedTuple{(), Tuple{}}})\n",
      "   @ FileIO C:\\Users\\Admin\\.julia\\packages\\FileIO\\hCQX2\\src\\loadsave.jl:185\n",
      " [6] action\n",
      "   @ C:\\Users\\Admin\\.julia\\packages\\FileIO\\hCQX2\\src\\loadsave.jl:185 [inlined]\n",
      " [7] load(file::String, args::String; options::Base.Pairs{Symbol, Union{}, Tuple{}, NamedTuple{(), Tuple{}}})\n",
      "   @ FileIO C:\\Users\\Admin\\.julia\\packages\\FileIO\\hCQX2\\src\\loadsave.jl:113\n",
      " [8] load(file::String, args::String)\n",
      "   @ FileIO C:\\Users\\Admin\\.julia\\packages\\FileIO\\hCQX2\\src\\loadsave.jl:109\n",
      " [9] top-level scope\n",
      "   @ c:\\Hey! It is! You, yes! you. Please focus when you need and forget all when you dont (exclamation mark)\\ToiUuHoa\\TaxiSimulationPotato\\examples\\jl_notebook_cell_df34fa98e69747e1a8f8a730347b8e2f_Y113sZmlsZQ==.jl:1"
     ]
    }
   ],
   "source": [
    "pb = load(\"data/mediumurb.jld\", \"pb\")"
   ]
  },
  {
   "cell_type": "markdown",
   "metadata": {},
   "source": [
    "Online simulation relies on the `onlineSimulation` function, that takes a taxi problem and and feeds it to an online algorithm. Either updates the solution at a predefined time-steps or for each new customer.\n",
    "\n",
    "A general class of online algorithm are offline-planning, that maintain an inner offline solution of future moves throughout the simulation\n",
    "\n",
    "- The simplest one is `InsertOnly`, that just insert new customers into a taxi's timeline."
   ]
  },
  {
   "cell_type": "code",
   "execution_count": 29,
   "metadata": {},
   "outputs": [
    {
     "name": "stdout",
     "output_type": "stream",
     "text": [
      "pre-simulation computations..."
     ]
    },
    {
     "ename": "MethodError",
     "evalue": "MethodError: no method matching (Array{Customer})(::Int64)\nClosest candidates are:\n  (Array{T})(!Matched::LinearAlgebra.AbstractQ) where T at C:\\Users\\Admin\\.julia\\juliaup\\julia-1.8.5+0.x64.w64.mingw32\\share\\julia\\stdlib\\v1.8\\LinearAlgebra\\src\\qr.jl:577\n  (Array{T})(!Matched::LinearAlgebra.LQPackedQ{T, S, C} where {S<:AbstractMatrix{T}, C<:AbstractVector{T}}) where T at C:\\Users\\Admin\\.julia\\juliaup\\julia-1.8.5+0.x64.w64.mingw32\\share\\julia\\stdlib\\v1.8\\LinearAlgebra\\src\\lq.jl:171\n  (Array{T})(!Matched::StaticArraysCore.SizedArray{S, T, N, M, TData} where {N, M, TData<:AbstractArray{T, M}}) where {T, S} at C:\\Users\\Admin\\.julia\\packages\\StaticArrays\\9Yt0H\\src\\SizedArray.jl:63\n  ...",
     "output_type": "error",
     "traceback": [
      "MethodError: no method matching (Array{Customer})(::Int64)\n",
      "Closest candidates are:\n",
      "  (Array{T})(!Matched::LinearAlgebra.AbstractQ) where T at C:\\Users\\Admin\\.julia\\juliaup\\julia-1.8.5+0.x64.w64.mingw32\\share\\julia\\stdlib\\v1.8\\LinearAlgebra\\src\\qr.jl:577\n",
      "  (Array{T})(!Matched::LinearAlgebra.LQPackedQ{T, S, C} where {S<:AbstractMatrix{T}, C<:AbstractVector{T}}) where T at C:\\Users\\Admin\\.julia\\juliaup\\julia-1.8.5+0.x64.w64.mingw32\\share\\julia\\stdlib\\v1.8\\LinearAlgebra\\src\\lq.jl:171\n",
      "  (Array{T})(!Matched::StaticArraysCore.SizedArray{S, T, N, M, TData} where {N, M, TData<:AbstractArray{T, M}}) where {T, S} at C:\\Users\\Admin\\.julia\\packages\\StaticArrays\\9Yt0H\\src\\SizedArray.jl:63\n",
      "  ...\n",
      "\n",
      "Stacktrace:\n",
      " [1] onlineInitialize!(op::InsertOnly, pb::TaxiProblem)\n",
      "   @ TaxiSimulationPotato c:\\Hey! It is! You, yes! you. Please focus when you need and forget all when you dont (exclamation mark)\\ToiUuHoa\\TaxiSimulationPotato\\src\\online\\offlineplanning.jl:44\n",
      " [2] onlineSimulation(pb::TaxiProblem, oa::InsertOnly; period::Float64, verbose::Bool, horizon::Float64)\n",
      "   @ TaxiSimulationPotato c:\\Hey! It is! You, yes! you. Please focus when you need and forget all when you dont (exclamation mark)\\ToiUuHoa\\TaxiSimulationPotato\\src\\online\\online.jl:55\n",
      " [3] onlineSimulation(pb::TaxiProblem, oa::InsertOnly)\n",
      "   @ TaxiSimulationPotato c:\\Hey! It is! You, yes! you. Please focus when you need and forget all when you dont (exclamation mark)\\ToiUuHoa\\TaxiSimulationPotato\\src\\online\\online.jl:26\n",
      " [4] top-level scope\n",
      "   @ c:\\Hey! It is! You, yes! you. Please focus when you need and forget all when you dont (exclamation mark)\\ToiUuHoa\\TaxiSimulationPotato\\examples\\jl_notebook_cell_df34fa98e69747e1a8f8a730347b8e2f_Y115sZmlsZQ==.jl:2"
     ]
    }
   ],
   "source": [
    "algo = InsertOnly(earliest=false)\n",
    "sol = onlineSimulation(pb, algo)\n",
    "\n",
    "# a horizon can be added:\n",
    "sol = onlineSimulation(pb, algo, horizon=60*20, verbose=false, period=30)"
   ]
  },
  {
   "cell_type": "markdown",
   "metadata": {},
   "source": [
    "- `NearestTaxi` assign the nearest free taxi to new customers, at the time they appear (pure online)"
   ]
  },
  {
   "cell_type": "code",
   "execution_count": 30,
   "metadata": {},
   "outputs": [
    {
     "name": "stdout",
     "output_type": "stream",
     "text": [
      "pre-simulation computations..."
     ]
    },
    {
     "ename": "MethodError",
     "evalue": "MethodError: no method matching (Array{Customer})(::Int64)\nClosest candidates are:\n  (Array{T})(!Matched::LinearAlgebra.AbstractQ) where T at C:\\Users\\Admin\\.julia\\juliaup\\julia-1.8.5+0.x64.w64.mingw32\\share\\julia\\stdlib\\v1.8\\LinearAlgebra\\src\\qr.jl:577\n  (Array{T})(!Matched::LinearAlgebra.LQPackedQ{T, S, C} where {S<:AbstractMatrix{T}, C<:AbstractVector{T}}) where T at C:\\Users\\Admin\\.julia\\juliaup\\julia-1.8.5+0.x64.w64.mingw32\\share\\julia\\stdlib\\v1.8\\LinearAlgebra\\src\\lq.jl:171\n  (Array{T})(!Matched::StaticArraysCore.SizedArray{S, T, N, M, TData} where {N, M, TData<:AbstractArray{T, M}}) where {T, S} at C:\\Users\\Admin\\.julia\\packages\\StaticArrays\\9Yt0H\\src\\SizedArray.jl:63\n  ...",
     "output_type": "error",
     "traceback": [
      "MethodError: no method matching (Array{Customer})(::Int64)\n",
      "Closest candidates are:\n",
      "  (Array{T})(!Matched::LinearAlgebra.AbstractQ) where T at C:\\Users\\Admin\\.julia\\juliaup\\julia-1.8.5+0.x64.w64.mingw32\\share\\julia\\stdlib\\v1.8\\LinearAlgebra\\src\\qr.jl:577\n",
      "  (Array{T})(!Matched::LinearAlgebra.LQPackedQ{T, S, C} where {S<:AbstractMatrix{T}, C<:AbstractVector{T}}) where T at C:\\Users\\Admin\\.julia\\juliaup\\julia-1.8.5+0.x64.w64.mingw32\\share\\julia\\stdlib\\v1.8\\LinearAlgebra\\src\\lq.jl:171\n",
      "  (Array{T})(!Matched::StaticArraysCore.SizedArray{S, T, N, M, TData} where {N, M, TData<:AbstractArray{T, M}}) where {T, S} at C:\\Users\\Admin\\.julia\\packages\\StaticArrays\\9Yt0H\\src\\SizedArray.jl:63\n",
      "  ...\n",
      "\n",
      "Stacktrace:\n",
      " [1] onlineInitialize!(op::NearestTaxi, pb::TaxiProblem)\n",
      "   @ TaxiSimulationPotato c:\\Hey! It is! You, yes! you. Please focus when you need and forget all when you dont (exclamation mark)\\ToiUuHoa\\TaxiSimulationPotato\\src\\online\\offlineplanning.jl:44\n",
      " [2] onlineSimulation(pb::TaxiProblem, oa::NearestTaxi; period::Float64, verbose::Bool, horizon::Float64)\n",
      "   @ TaxiSimulationPotato c:\\Hey! It is! You, yes! you. Please focus when you need and forget all when you dont (exclamation mark)\\ToiUuHoa\\TaxiSimulationPotato\\src\\online\\online.jl:55\n",
      " [3] onlineSimulation(pb::TaxiProblem, oa::NearestTaxi)\n",
      "   @ TaxiSimulationPotato c:\\Hey! It is! You, yes! you. Please focus when you need and forget all when you dont (exclamation mark)\\ToiUuHoa\\TaxiSimulationPotato\\src\\online\\online.jl:26\n",
      " [4] top-level scope\n",
      "   @ c:\\Hey! It is! You, yes! you. Please focus when you need and forget all when you dont (exclamation mark)\\ToiUuHoa\\TaxiSimulationPotato\\examples\\jl_notebook_cell_df34fa98e69747e1a8f8a730347b8e2f_Y120sZmlsZQ==.jl:2"
     ]
    }
   ],
   "source": [
    "algo = NearestTaxi(freeTaxiOnly=false)\n",
    "sol = onlineSimulation(pb, algo)"
   ]
  },
  {
   "cell_type": "markdown",
   "metadata": {},
   "source": [
    "- `SearchBudget` is a heuristic-based algorithm that uses an offline solver to continuously improve the solution. The time_budget parameter controls the percentage of \"simulation real-time\" that is used to find a better solution. This method can use any offline solver."
   ]
  },
  {
   "cell_type": "code",
   "execution_count": 31,
   "metadata": {},
   "outputs": [
    {
     "name": "stdout",
     "output_type": "stream",
     "text": [
      "pre-simulation computations..."
     ]
    },
    {
     "ename": "MethodError",
     "evalue": "MethodError: no method matching (Array{Customer})(::Int64)\nClosest candidates are:\n  (Array{T})(!Matched::LinearAlgebra.AbstractQ) where T at C:\\Users\\Admin\\.julia\\juliaup\\julia-1.8.5+0.x64.w64.mingw32\\share\\julia\\stdlib\\v1.8\\LinearAlgebra\\src\\qr.jl:577\n  (Array{T})(!Matched::LinearAlgebra.LQPackedQ{T, S, C} where {S<:AbstractMatrix{T}, C<:AbstractVector{T}}) where T at C:\\Users\\Admin\\.julia\\juliaup\\julia-1.8.5+0.x64.w64.mingw32\\share\\julia\\stdlib\\v1.8\\LinearAlgebra\\src\\lq.jl:171\n  (Array{T})(!Matched::StaticArraysCore.SizedArray{S, T, N, M, TData} where {N, M, TData<:AbstractArray{T, M}}) where {T, S} at C:\\Users\\Admin\\.julia\\packages\\StaticArrays\\9Yt0H\\src\\SizedArray.jl:63\n  ...",
     "output_type": "error",
     "traceback": [
      "MethodError: no method matching (Array{Customer})(::Int64)\n",
      "Closest candidates are:\n",
      "  (Array{T})(!Matched::LinearAlgebra.AbstractQ) where T at C:\\Users\\Admin\\.julia\\juliaup\\julia-1.8.5+0.x64.w64.mingw32\\share\\julia\\stdlib\\v1.8\\LinearAlgebra\\src\\qr.jl:577\n",
      "  (Array{T})(!Matched::LinearAlgebra.LQPackedQ{T, S, C} where {S<:AbstractMatrix{T}, C<:AbstractVector{T}}) where T at C:\\Users\\Admin\\.julia\\juliaup\\julia-1.8.5+0.x64.w64.mingw32\\share\\julia\\stdlib\\v1.8\\LinearAlgebra\\src\\lq.jl:171\n",
      "  (Array{T})(!Matched::StaticArraysCore.SizedArray{S, T, N, M, TData} where {N, M, TData<:AbstractArray{T, M}}) where {T, S} at C:\\Users\\Admin\\.julia\\packages\\StaticArrays\\9Yt0H\\src\\SizedArray.jl:63\n",
      "  ...\n",
      "\n",
      "Stacktrace:\n",
      " [1] onlineInitialize!(op::SearchBudget, pb::TaxiProblem)\n",
      "   @ TaxiSimulationPotato c:\\Hey! It is! You, yes! you. Please focus when you need and forget all when you dont (exclamation mark)\\ToiUuHoa\\TaxiSimulationPotato\\src\\online\\offlineplanning.jl:44\n",
      " [2] onlineSimulation(pb::TaxiProblem, oa::SearchBudget; period::Float64, verbose::Bool, horizon::Float64)\n",
      "   @ TaxiSimulationPotato c:\\Hey! It is! You, yes! you. Please focus when you need and forget all when you dont (exclamation mark)\\ToiUuHoa\\TaxiSimulationPotato\\src\\online\\online.jl:55\n",
      " [3] onlineSimulation(pb::TaxiProblem, oa::SearchBudget)\n",
      "   @ TaxiSimulationPotato c:\\Hey! It is! You, yes! you. Please focus when you need and forget all when you dont (exclamation mark)\\ToiUuHoa\\TaxiSimulationPotato\\src\\online\\online.jl:26\n",
      " [4] top-level scope\n",
      "   @ c:\\Hey! It is! You, yes! you. Please focus when you need and forget all when you dont (exclamation mark)\\ToiUuHoa\\TaxiSimulationPotato\\examples\\jl_notebook_cell_df34fa98e69747e1a8f8a730347b8e2f_Y122sZmlsZQ==.jl:2"
     ]
    }
   ],
   "source": [
    "algo = SearchBudget(time_budget = 0.1)\n",
    "sol = onlineSimulation(pb, algo)"
   ]
  },
  {
   "cell_type": "code",
   "execution_count": 32,
   "metadata": {},
   "outputs": [
    {
     "name": "stdout",
     "output_type": "stream",
     "text": [
      "pre-simulation computations..."
     ]
    },
    {
     "ename": "MethodError",
     "evalue": "MethodError: no method matching (Array{Customer})(::Int64)\nClosest candidates are:\n  (Array{T})(!Matched::LinearAlgebra.AbstractQ) where T at C:\\Users\\Admin\\.julia\\juliaup\\julia-1.8.5+0.x64.w64.mingw32\\share\\julia\\stdlib\\v1.8\\LinearAlgebra\\src\\qr.jl:577\n  (Array{T})(!Matched::LinearAlgebra.LQPackedQ{T, S, C} where {S<:AbstractMatrix{T}, C<:AbstractVector{T}}) where T at C:\\Users\\Admin\\.julia\\juliaup\\julia-1.8.5+0.x64.w64.mingw32\\share\\julia\\stdlib\\v1.8\\LinearAlgebra\\src\\lq.jl:171\n  (Array{T})(!Matched::StaticArraysCore.SizedArray{S, T, N, M, TData} where {N, M, TData<:AbstractArray{T, M}}) where {T, S} at C:\\Users\\Admin\\.julia\\packages\\StaticArrays\\9Yt0H\\src\\SizedArray.jl:63\n  ...",
     "output_type": "error",
     "traceback": [
      "MethodError: no method matching (Array{Customer})(::Int64)\n",
      "Closest candidates are:\n",
      "  (Array{T})(!Matched::LinearAlgebra.AbstractQ) where T at C:\\Users\\Admin\\.julia\\juliaup\\julia-1.8.5+0.x64.w64.mingw32\\share\\julia\\stdlib\\v1.8\\LinearAlgebra\\src\\qr.jl:577\n",
      "  (Array{T})(!Matched::LinearAlgebra.LQPackedQ{T, S, C} where {S<:AbstractMatrix{T}, C<:AbstractVector{T}}) where T at C:\\Users\\Admin\\.julia\\juliaup\\julia-1.8.5+0.x64.w64.mingw32\\share\\julia\\stdlib\\v1.8\\LinearAlgebra\\src\\lq.jl:171\n",
      "  (Array{T})(!Matched::StaticArraysCore.SizedArray{S, T, N, M, TData} where {N, M, TData<:AbstractArray{T, M}}) where {T, S} at C:\\Users\\Admin\\.julia\\packages\\StaticArrays\\9Yt0H\\src\\SizedArray.jl:63\n",
      "  ...\n",
      "\n",
      "Stacktrace:\n",
      " [1] onlineInitialize!(op::SearchBudget, pb::TaxiProblem)\n",
      "   @ TaxiSimulationPotato c:\\Hey! It is! You, yes! you. Please focus when you need and forget all when you dont (exclamation mark)\\ToiUuHoa\\TaxiSimulationPotato\\src\\online\\offlineplanning.jl:44\n",
      " [2] onlineSimulation(pb::TaxiProblem, oa::SearchBudget; period::Float64, verbose::Bool, horizon::Int64)\n",
      "   @ TaxiSimulationPotato c:\\Hey! It is! You, yes! you. Please focus when you need and forget all when you dont (exclamation mark)\\ToiUuHoa\\TaxiSimulationPotato\\src\\online\\online.jl:55\n",
      " [3] top-level scope\n",
      "   @ c:\\Hey! It is! You, yes! you. Please focus when you need and forget all when you dont (exclamation mark)\\ToiUuHoa\\TaxiSimulationPotato\\examples\\jl_notebook_cell_df34fa98e69747e1a8f8a730347b8e2f_Y123sZmlsZQ==.jl:7"
     ]
    }
   ],
   "source": [
    "algo = SearchBudget(\n",
    "update_solver     = (pb,init,custs,t)-> mipSolve(pb, FlowProblem(pb, collect(custs)), Nullable{OfflineSolution}(init), verbose=true),\n",
    "precompute_solver = (pb,custs)     -> mipSolve(pb, FlowProblem(pb, collect(custs)), Nullable{OfflineSolution}(), verbose=true),\n",
    "    time_budget=1.,  update_freq=60.\n",
    ")\n",
    "\n",
    "sol = onlineSimulation(pb, algo, horizon=60*20, period=30.)"
   ]
  },
  {
   "cell_type": "markdown",
   "metadata": {},
   "source": [
    "`BackbonePlanning` is a full optimization online method based on the backbone local optimization. It updates real time a graph representing the problem and constantly search for a better solution. Lots of parameters make it possible to control the space restriction, the computational time allowed, etc..."
   ]
  },
  {
   "cell_type": "code",
   "execution_count": 33,
   "metadata": {
    "collapsed": true
   },
   "outputs": [
    {
     "name": "stdout",
     "output_type": "stream",
     "text": [
      "pre-simulation computations..."
     ]
    },
    {
     "ename": "MethodError",
     "evalue": "MethodError: no method matching (Array{Tuple{Float64, Float64}})(::Int64)\nClosest candidates are:\n  (Array{T})(!Matched::LinearAlgebra.AbstractQ) where T at C:\\Users\\Admin\\.julia\\juliaup\\julia-1.8.5+0.x64.w64.mingw32\\share\\julia\\stdlib\\v1.8\\LinearAlgebra\\src\\qr.jl:577\n  (Array{T})(!Matched::LinearAlgebra.LQPackedQ{T, S, C} where {S<:AbstractMatrix{T}, C<:AbstractVector{T}}) where T at C:\\Users\\Admin\\.julia\\juliaup\\julia-1.8.5+0.x64.w64.mingw32\\share\\julia\\stdlib\\v1.8\\LinearAlgebra\\src\\lq.jl:171\n  (Array{T})(!Matched::StaticArraysCore.SizedArray{S, T, N, M, TData} where {N, M, TData<:AbstractArray{T, M}}) where {T, S} at C:\\Users\\Admin\\.julia\\packages\\StaticArrays\\9Yt0H\\src\\SizedArray.jl:63\n  ...",
     "output_type": "error",
     "traceback": [
      "MethodError: no method matching (Array{Tuple{Float64, Float64}})(::Int64)\n",
      "Closest candidates are:\n",
      "  (Array{T})(!Matched::LinearAlgebra.AbstractQ) where T at C:\\Users\\Admin\\.julia\\juliaup\\julia-1.8.5+0.x64.w64.mingw32\\share\\julia\\stdlib\\v1.8\\LinearAlgebra\\src\\qr.jl:577\n",
      "  (Array{T})(!Matched::LinearAlgebra.LQPackedQ{T, S, C} where {S<:AbstractMatrix{T}, C<:AbstractVector{T}}) where T at C:\\Users\\Admin\\.julia\\juliaup\\julia-1.8.5+0.x64.w64.mingw32\\share\\julia\\stdlib\\v1.8\\LinearAlgebra\\src\\lq.jl:171\n",
      "  (Array{T})(!Matched::StaticArraysCore.SizedArray{S, T, N, M, TData} where {N, M, TData<:AbstractArray{T, M}}) where {T, S} at C:\\Users\\Admin\\.julia\\packages\\StaticArrays\\9Yt0H\\src\\SizedArray.jl:63\n",
      "  ...\n",
      "\n",
      "Stacktrace:\n",
      " [1] emptyFlow(pb::TaxiProblem)\n",
      "   @ TaxiSimulationPotato c:\\Hey! It is! You, yes! you. Please focus when you need and forget all when you dont (exclamation mark)\\ToiUuHoa\\TaxiSimulationPotato\\src\\offline\\flowproblem.jl:140\n",
      " [2] onlineInitialize!(bp::BackbonePlanning, pb::TaxiProblem)\n",
      "   @ TaxiSimulationPotato c:\\Hey! It is! You, yes! you. Please focus when you need and forget all when you dont (exclamation mark)\\ToiUuHoa\\TaxiSimulationPotato\\src\\online\\backboneplanning.jl:67\n",
      " [3] onlineSimulation(pb::TaxiProblem, oa::BackbonePlanning; period::Int64, verbose::Bool, horizon::Int64)\n",
      "   @ TaxiSimulationPotato c:\\Hey! It is! You, yes! you. Please focus when you need and forget all when you dont (exclamation mark)\\ToiUuHoa\\TaxiSimulationPotato\\src\\online\\online.jl:55\n",
      " [4] top-level scope\n",
      "   @ c:\\Hey! It is! You, yes! you. Please focus when you need and forget all when you dont (exclamation mark)\\ToiUuHoa\\TaxiSimulationPotato\\examples\\jl_notebook_cell_df34fa98e69747e1a8f8a730347b8e2f_Y125sZmlsZQ==.jl:2"
     ]
    }
   ],
   "source": [
    "algo = BackbonePlanning(edgesPerNode=20, precompTime=60, iterTime=5, maxEdges = 400, maxExplorationTime = 1)\n",
    "sol = onlineSimulation(pb, algo, horizon=60*20, verbose=true, period=30)"
   ]
  }
 ],
 "metadata": {
  "kernelspec": {
   "display_name": "Julia 1.8.5",
   "language": "julia",
   "name": "julia-1.8"
  },
  "language_info": {
   "file_extension": ".jl",
   "mimetype": "application/julia",
   "name": "julia",
   "version": "1.8.5"
  }
 },
 "nbformat": 4,
 "nbformat_minor": 1
}
